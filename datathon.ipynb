{
 "cells": [
  {
   "cell_type": "markdown",
   "metadata": {},
   "source": []
  },
  {
   "cell_type": "code",
   "execution_count": 1,
   "metadata": {},
   "outputs": [],
   "source": [
    "import pandas as pd\n",
    "from pycaret.datasets import get_data\n",
    "\n",
    "#importando paquetes que se van a usar"
   ]
  },
  {
   "cell_type": "code",
   "execution_count": 2,
   "metadata": {},
   "outputs": [],
   "source": [
    "df_train = pd.read_csv(\"properties_colombia_train.csv\",index_col=False)\n",
    "df_test = pd.read_csv(\"properties_colombia_test.csv\",index_col=False)\n",
    "\n",
    "#lectura datos de entrenamiento y prueba"
   ]
  },
  {
   "cell_type": "code",
   "execution_count": 3,
   "metadata": {},
   "outputs": [
    {
     "name": "stdout",
     "output_type": "stream",
     "text": [
      "(197549, 28) (65850, 26)\n"
     ]
    }
   ],
   "source": [
    "mean_price = int(df_train.price.mean())\n",
    "df_train['avg'] = df_train['price'].apply(lambda x: 1 if x > mean_price else 0)\n",
    "\n",
    "# categorización de las propiedades entre baratas o caras, considerando como criterio el valor promedio de los precios\n",
    "# (la media). \n",
    "\n",
    "print(df_train.shape,df_test.shape)\n",
    "\n",
    "# shape de entrenamiento y testeo"
   ]
  },
  {
   "cell_type": "code",
   "execution_count": null,
   "metadata": {},
   "outputs": [],
   "source": [
    "print(df_train.head(),df_test)"
   ]
  },
  {
   "cell_type": "code",
   "execution_count": null,
   "metadata": {},
   "outputs": [],
   "source": [
    "info = pd.DataFrame(df_train.dtypes, columns=['Dtype'])\n",
    "info['Unique'] = df_train.nunique().values\n",
    "info['Null'] = df_train.isnull().sum().values\n",
    "info\n",
    "\n",
    "# Análisis del archivo de Entrenamiento para el Data Cleaning"
   ]
  },
  {
   "cell_type": "markdown",
   "metadata": {},
   "source": [
    "Data Cleaning"
   ]
  },
  {
   "cell_type": "code",
   "execution_count": 4,
   "metadata": {},
   "outputs": [],
   "source": [
    "df_train.drop(columns = ['id','l4','l5','l6','price_period','start_date','end_date','created_on'], inplace = True)\n",
    "df_test.drop(columns = ['id','l4','l5','l6','price_period','start_date','end_date','created_on'], inplace = True)\n",
    "\n",
    "# Estas columnas se borran ya que no tienen incidencia en el target"
   ]
  },
  {
   "cell_type": "code",
   "execution_count": 16,
   "metadata": {},
   "outputs": [
    {
     "data": {
      "text/plain": [
       "['rooms', 'bedrooms', 'surface_total', 'surface_covered']"
      ]
     },
     "execution_count": 16,
     "metadata": {},
     "output_type": "execute_result"
    }
   ],
   "source": [
    "# Columns with missing values in more than half number of rows\n",
    "null_cols = [col for col in df_train.columns if df_train[col].isnull().sum() > len(df_train)/2]\n",
    "null_cols"
   ]
  },
  {
   "cell_type": "code",
   "execution_count": null,
   "metadata": {},
   "outputs": [],
   "source": [
    "\n",
    "df_train[df_train.columns[df_train.isnull().any()]].isnull().sum()\n",
    "df_test[df_test.columns[df_test.isnull().any()]].isnull().sum()"
   ]
  },
  {
   "cell_type": "code",
   "execution_count": 5,
   "metadata": {},
   "outputs": [],
   "source": [
    "def media_numericos(col):\n",
    "    if col.dtype == int or col.dtype == float:\n",
    "        return col.fillna(round(col.mean()), inplace=True)\n",
    "    else:\n",
    "        return col.fillna(col.mode()[0], inplace=True)\n",
    "\n",
    "def media_string_na(col):\n",
    "        return col.fillna('NA', inplace=True)\n",
    "\n",
    "# funciones para llenar nulos numéricos y categoricas con su media"
   ]
  },
  {
   "cell_type": "code",
   "execution_count": null,
   "metadata": {},
   "outputs": [],
   "source": [
    "[media_numericos(df_train[col]) for col in ['lat', 'lon','rooms', 'bedrooms','bathrooms','surface_total',\n",
    "                                                'surface_covered','price']];\n",
    "[media_string_na(df_train[col]) for col in ['l3','currency','title', 'description']];\n",
    "df_train[df_train.columns[df_train.isnull().any()]].isnull().sum()"
   ]
  },
  {
   "cell_type": "code",
   "execution_count": null,
   "metadata": {},
   "outputs": [],
   "source": [
    "[media_numericos(df_test[col]) for col in ['lat', 'lon','rooms', 'bedrooms','bathrooms','surface_total',\n",
    "                                                'surface_covered']];\n",
    "[media_string_na(df_test[col]) for col in ['l3','currency','title', 'description']];\n",
    "df_test[df_test.columns[df_test.isnull().any()]].isnull().sum()\n",
    "\n",
    "# Se rellenan los nulos numericos con la media y categoricas con \"NA\""
   ]
  },
  {
   "cell_type": "code",
   "execution_count": null,
   "metadata": {},
   "outputs": [],
   "source": [
    "df_train.describe(exclude='number').transpose()"
   ]
  },
  {
   "cell_type": "code",
   "execution_count": null,
   "metadata": {},
   "outputs": [],
   "source": [
    "df_train[\"ad_type\"] = df_train[\"ad_type\"].astype(\"category\")\n",
    "df_train[\"l1\"] = df_train[\"l1\"].astype(\"category\")\n",
    "df_train[\"l2\"] = df_train[\"l2\"].astype(\"category\")\n",
    "df_train[\"l3\"] = df_train[\"l3\"].astype(\"category\")\n",
    "df_train[\"property_type\"] = df_train[\"property_type\"].astype(\"category\")\n",
    "df_train[\"operation_type\"] = df_train[\"operation_type\"].astype(\"category\")\n",
    "df_train[\"geometry\"] = df_train[\"geometry\"].astype(\"category\")\n",
    "\n",
    "df_train.info()\n"
   ]
  },
  {
   "cell_type": "code",
   "execution_count": null,
   "metadata": {},
   "outputs": [],
   "source": [
    "df_test[\"ad_type\"] = df_test[\"ad_type\"].astype(\"category\")\n",
    "df_test[\"l1\"] = df_test[\"l1\"].astype(\"category\")\n",
    "df_test[\"l2\"] = df_test[\"l2\"].astype(\"category\")\n",
    "df_test[\"l3\"] = df_test[\"l3\"].astype(\"category\")\n",
    "df_test[\"property_type\"] = df_test[\"property_type\"].astype(\"category\")\n",
    "df_test[\"operation_type\"] = df_test[\"operation_type\"].astype(\"category\")\n",
    "df_test[\"geometry\"] = df_test[\"geometry\"].astype(\"category\")\n",
    "\n",
    "df_test.info()\n",
    "\n",
    "# Conversión de variables tipo object en categoricas"
   ]
  },
  {
   "cell_type": "code",
   "execution_count": 18,
   "metadata": {},
   "outputs": [
    {
     "name": "stdout",
     "output_type": "stream",
     "text": [
      "(197549, 20) (65850, 18)\n"
     ]
    }
   ],
   "source": [
    "print(df_train.shape,df_test.shape)"
   ]
  },
  {
   "cell_type": "code",
   "execution_count": 28,
   "metadata": {},
   "outputs": [],
   "source": [
    "import plotly.offline as py\n",
    "import plotly.graph_objs as go\n",
    "\n",
    "Cara = df_train[(df_train['avg'] != 0)]\n",
    "Barata = df_train[(df_train['avg'] == 0)]\n",
    "\n",
    "def target_count():\n",
    "    trace = go.Bar( x = df_train['avg'].value_counts().values.tolist(), \n",
    "                    y = ['Barata','Cara' ], \n",
    "                    orientation = 'h', \n",
    "                    text=df_train['avg'].value_counts().values.tolist(), \n",
    "                    textfont=dict(size=15),\n",
    "                    textposition = 'auto',\n",
    "                    opacity = 0.8,marker=dict(\n",
    "                    color=['lightskyblue', 'gold'],\n",
    "                    line=dict(color='#000000',width=1.5)))\n",
    "\n",
    "    layout = dict(title =  'Cara - Barata')\n",
    "\n",
    "    fig = dict(data = [trace], layout=layout)\n",
    "    py.iplot(fig)\n",
    "\n",
    "    # Funcion para graficar el balance del target "
   ]
  },
  {
   "cell_type": "code",
   "execution_count": 29,
   "metadata": {},
   "outputs": [
    {
     "data": {
      "application/vnd.plotly.v1+json": {
       "config": {
        "linkText": "Export to plot.ly",
        "plotlyServerURL": "https://plot.ly",
        "showLink": false
       },
       "data": [
        {
         "marker": {
          "color": [
           "lightskyblue",
           "gold"
          ],
          "line": {
           "color": "#000000",
           "width": 1.5
          }
         },
         "opacity": 0.8,
         "orientation": "h",
         "text": [
          "151191",
          "46358"
         ],
         "textfont": {
          "size": 15
         },
         "textposition": "auto",
         "type": "bar",
         "x": [
          151191,
          46358
         ],
         "y": [
          "Barata",
          "Cara"
         ]
        }
       ],
       "layout": {
        "template": {
         "data": {
          "bar": [
           {
            "error_x": {
             "color": "#2a3f5f"
            },
            "error_y": {
             "color": "#2a3f5f"
            },
            "marker": {
             "line": {
              "color": "#E5ECF6",
              "width": 0.5
             },
             "pattern": {
              "fillmode": "overlay",
              "size": 10,
              "solidity": 0.2
             }
            },
            "type": "bar"
           }
          ],
          "barpolar": [
           {
            "marker": {
             "line": {
              "color": "#E5ECF6",
              "width": 0.5
             },
             "pattern": {
              "fillmode": "overlay",
              "size": 10,
              "solidity": 0.2
             }
            },
            "type": "barpolar"
           }
          ],
          "carpet": [
           {
            "aaxis": {
             "endlinecolor": "#2a3f5f",
             "gridcolor": "white",
             "linecolor": "white",
             "minorgridcolor": "white",
             "startlinecolor": "#2a3f5f"
            },
            "baxis": {
             "endlinecolor": "#2a3f5f",
             "gridcolor": "white",
             "linecolor": "white",
             "minorgridcolor": "white",
             "startlinecolor": "#2a3f5f"
            },
            "type": "carpet"
           }
          ],
          "choropleth": [
           {
            "colorbar": {
             "outlinewidth": 0,
             "ticks": ""
            },
            "type": "choropleth"
           }
          ],
          "contour": [
           {
            "colorbar": {
             "outlinewidth": 0,
             "ticks": ""
            },
            "colorscale": [
             [
              0,
              "#0d0887"
             ],
             [
              0.1111111111111111,
              "#46039f"
             ],
             [
              0.2222222222222222,
              "#7201a8"
             ],
             [
              0.3333333333333333,
              "#9c179e"
             ],
             [
              0.4444444444444444,
              "#bd3786"
             ],
             [
              0.5555555555555556,
              "#d8576b"
             ],
             [
              0.6666666666666666,
              "#ed7953"
             ],
             [
              0.7777777777777778,
              "#fb9f3a"
             ],
             [
              0.8888888888888888,
              "#fdca26"
             ],
             [
              1,
              "#f0f921"
             ]
            ],
            "type": "contour"
           }
          ],
          "contourcarpet": [
           {
            "colorbar": {
             "outlinewidth": 0,
             "ticks": ""
            },
            "type": "contourcarpet"
           }
          ],
          "heatmap": [
           {
            "colorbar": {
             "outlinewidth": 0,
             "ticks": ""
            },
            "colorscale": [
             [
              0,
              "#0d0887"
             ],
             [
              0.1111111111111111,
              "#46039f"
             ],
             [
              0.2222222222222222,
              "#7201a8"
             ],
             [
              0.3333333333333333,
              "#9c179e"
             ],
             [
              0.4444444444444444,
              "#bd3786"
             ],
             [
              0.5555555555555556,
              "#d8576b"
             ],
             [
              0.6666666666666666,
              "#ed7953"
             ],
             [
              0.7777777777777778,
              "#fb9f3a"
             ],
             [
              0.8888888888888888,
              "#fdca26"
             ],
             [
              1,
              "#f0f921"
             ]
            ],
            "type": "heatmap"
           }
          ],
          "heatmapgl": [
           {
            "colorbar": {
             "outlinewidth": 0,
             "ticks": ""
            },
            "colorscale": [
             [
              0,
              "#0d0887"
             ],
             [
              0.1111111111111111,
              "#46039f"
             ],
             [
              0.2222222222222222,
              "#7201a8"
             ],
             [
              0.3333333333333333,
              "#9c179e"
             ],
             [
              0.4444444444444444,
              "#bd3786"
             ],
             [
              0.5555555555555556,
              "#d8576b"
             ],
             [
              0.6666666666666666,
              "#ed7953"
             ],
             [
              0.7777777777777778,
              "#fb9f3a"
             ],
             [
              0.8888888888888888,
              "#fdca26"
             ],
             [
              1,
              "#f0f921"
             ]
            ],
            "type": "heatmapgl"
           }
          ],
          "histogram": [
           {
            "marker": {
             "pattern": {
              "fillmode": "overlay",
              "size": 10,
              "solidity": 0.2
             }
            },
            "type": "histogram"
           }
          ],
          "histogram2d": [
           {
            "colorbar": {
             "outlinewidth": 0,
             "ticks": ""
            },
            "colorscale": [
             [
              0,
              "#0d0887"
             ],
             [
              0.1111111111111111,
              "#46039f"
             ],
             [
              0.2222222222222222,
              "#7201a8"
             ],
             [
              0.3333333333333333,
              "#9c179e"
             ],
             [
              0.4444444444444444,
              "#bd3786"
             ],
             [
              0.5555555555555556,
              "#d8576b"
             ],
             [
              0.6666666666666666,
              "#ed7953"
             ],
             [
              0.7777777777777778,
              "#fb9f3a"
             ],
             [
              0.8888888888888888,
              "#fdca26"
             ],
             [
              1,
              "#f0f921"
             ]
            ],
            "type": "histogram2d"
           }
          ],
          "histogram2dcontour": [
           {
            "colorbar": {
             "outlinewidth": 0,
             "ticks": ""
            },
            "colorscale": [
             [
              0,
              "#0d0887"
             ],
             [
              0.1111111111111111,
              "#46039f"
             ],
             [
              0.2222222222222222,
              "#7201a8"
             ],
             [
              0.3333333333333333,
              "#9c179e"
             ],
             [
              0.4444444444444444,
              "#bd3786"
             ],
             [
              0.5555555555555556,
              "#d8576b"
             ],
             [
              0.6666666666666666,
              "#ed7953"
             ],
             [
              0.7777777777777778,
              "#fb9f3a"
             ],
             [
              0.8888888888888888,
              "#fdca26"
             ],
             [
              1,
              "#f0f921"
             ]
            ],
            "type": "histogram2dcontour"
           }
          ],
          "mesh3d": [
           {
            "colorbar": {
             "outlinewidth": 0,
             "ticks": ""
            },
            "type": "mesh3d"
           }
          ],
          "parcoords": [
           {
            "line": {
             "colorbar": {
              "outlinewidth": 0,
              "ticks": ""
             }
            },
            "type": "parcoords"
           }
          ],
          "pie": [
           {
            "automargin": true,
            "type": "pie"
           }
          ],
          "scatter": [
           {
            "fillpattern": {
             "fillmode": "overlay",
             "size": 10,
             "solidity": 0.2
            },
            "type": "scatter"
           }
          ],
          "scatter3d": [
           {
            "line": {
             "colorbar": {
              "outlinewidth": 0,
              "ticks": ""
             }
            },
            "marker": {
             "colorbar": {
              "outlinewidth": 0,
              "ticks": ""
             }
            },
            "type": "scatter3d"
           }
          ],
          "scattercarpet": [
           {
            "marker": {
             "colorbar": {
              "outlinewidth": 0,
              "ticks": ""
             }
            },
            "type": "scattercarpet"
           }
          ],
          "scattergeo": [
           {
            "marker": {
             "colorbar": {
              "outlinewidth": 0,
              "ticks": ""
             }
            },
            "type": "scattergeo"
           }
          ],
          "scattergl": [
           {
            "marker": {
             "colorbar": {
              "outlinewidth": 0,
              "ticks": ""
             }
            },
            "type": "scattergl"
           }
          ],
          "scattermapbox": [
           {
            "marker": {
             "colorbar": {
              "outlinewidth": 0,
              "ticks": ""
             }
            },
            "type": "scattermapbox"
           }
          ],
          "scatterpolar": [
           {
            "marker": {
             "colorbar": {
              "outlinewidth": 0,
              "ticks": ""
             }
            },
            "type": "scatterpolar"
           }
          ],
          "scatterpolargl": [
           {
            "marker": {
             "colorbar": {
              "outlinewidth": 0,
              "ticks": ""
             }
            },
            "type": "scatterpolargl"
           }
          ],
          "scatterternary": [
           {
            "marker": {
             "colorbar": {
              "outlinewidth": 0,
              "ticks": ""
             }
            },
            "type": "scatterternary"
           }
          ],
          "surface": [
           {
            "colorbar": {
             "outlinewidth": 0,
             "ticks": ""
            },
            "colorscale": [
             [
              0,
              "#0d0887"
             ],
             [
              0.1111111111111111,
              "#46039f"
             ],
             [
              0.2222222222222222,
              "#7201a8"
             ],
             [
              0.3333333333333333,
              "#9c179e"
             ],
             [
              0.4444444444444444,
              "#bd3786"
             ],
             [
              0.5555555555555556,
              "#d8576b"
             ],
             [
              0.6666666666666666,
              "#ed7953"
             ],
             [
              0.7777777777777778,
              "#fb9f3a"
             ],
             [
              0.8888888888888888,
              "#fdca26"
             ],
             [
              1,
              "#f0f921"
             ]
            ],
            "type": "surface"
           }
          ],
          "table": [
           {
            "cells": {
             "fill": {
              "color": "#EBF0F8"
             },
             "line": {
              "color": "white"
             }
            },
            "header": {
             "fill": {
              "color": "#C8D4E3"
             },
             "line": {
              "color": "white"
             }
            },
            "type": "table"
           }
          ]
         },
         "layout": {
          "annotationdefaults": {
           "arrowcolor": "#2a3f5f",
           "arrowhead": 0,
           "arrowwidth": 1
          },
          "autotypenumbers": "strict",
          "coloraxis": {
           "colorbar": {
            "outlinewidth": 0,
            "ticks": ""
           }
          },
          "colorscale": {
           "diverging": [
            [
             0,
             "#8e0152"
            ],
            [
             0.1,
             "#c51b7d"
            ],
            [
             0.2,
             "#de77ae"
            ],
            [
             0.3,
             "#f1b6da"
            ],
            [
             0.4,
             "#fde0ef"
            ],
            [
             0.5,
             "#f7f7f7"
            ],
            [
             0.6,
             "#e6f5d0"
            ],
            [
             0.7,
             "#b8e186"
            ],
            [
             0.8,
             "#7fbc41"
            ],
            [
             0.9,
             "#4d9221"
            ],
            [
             1,
             "#276419"
            ]
           ],
           "sequential": [
            [
             0,
             "#0d0887"
            ],
            [
             0.1111111111111111,
             "#46039f"
            ],
            [
             0.2222222222222222,
             "#7201a8"
            ],
            [
             0.3333333333333333,
             "#9c179e"
            ],
            [
             0.4444444444444444,
             "#bd3786"
            ],
            [
             0.5555555555555556,
             "#d8576b"
            ],
            [
             0.6666666666666666,
             "#ed7953"
            ],
            [
             0.7777777777777778,
             "#fb9f3a"
            ],
            [
             0.8888888888888888,
             "#fdca26"
            ],
            [
             1,
             "#f0f921"
            ]
           ],
           "sequentialminus": [
            [
             0,
             "#0d0887"
            ],
            [
             0.1111111111111111,
             "#46039f"
            ],
            [
             0.2222222222222222,
             "#7201a8"
            ],
            [
             0.3333333333333333,
             "#9c179e"
            ],
            [
             0.4444444444444444,
             "#bd3786"
            ],
            [
             0.5555555555555556,
             "#d8576b"
            ],
            [
             0.6666666666666666,
             "#ed7953"
            ],
            [
             0.7777777777777778,
             "#fb9f3a"
            ],
            [
             0.8888888888888888,
             "#fdca26"
            ],
            [
             1,
             "#f0f921"
            ]
           ]
          },
          "colorway": [
           "#636efa",
           "#EF553B",
           "#00cc96",
           "#ab63fa",
           "#FFA15A",
           "#19d3f3",
           "#FF6692",
           "#B6E880",
           "#FF97FF",
           "#FECB52"
          ],
          "font": {
           "color": "#2a3f5f"
          },
          "geo": {
           "bgcolor": "white",
           "lakecolor": "white",
           "landcolor": "#E5ECF6",
           "showlakes": true,
           "showland": true,
           "subunitcolor": "white"
          },
          "hoverlabel": {
           "align": "left"
          },
          "hovermode": "closest",
          "mapbox": {
           "style": "light"
          },
          "paper_bgcolor": "white",
          "plot_bgcolor": "#E5ECF6",
          "polar": {
           "angularaxis": {
            "gridcolor": "white",
            "linecolor": "white",
            "ticks": ""
           },
           "bgcolor": "#E5ECF6",
           "radialaxis": {
            "gridcolor": "white",
            "linecolor": "white",
            "ticks": ""
           }
          },
          "scene": {
           "xaxis": {
            "backgroundcolor": "#E5ECF6",
            "gridcolor": "white",
            "gridwidth": 2,
            "linecolor": "white",
            "showbackground": true,
            "ticks": "",
            "zerolinecolor": "white"
           },
           "yaxis": {
            "backgroundcolor": "#E5ECF6",
            "gridcolor": "white",
            "gridwidth": 2,
            "linecolor": "white",
            "showbackground": true,
            "ticks": "",
            "zerolinecolor": "white"
           },
           "zaxis": {
            "backgroundcolor": "#E5ECF6",
            "gridcolor": "white",
            "gridwidth": 2,
            "linecolor": "white",
            "showbackground": true,
            "ticks": "",
            "zerolinecolor": "white"
           }
          },
          "shapedefaults": {
           "line": {
            "color": "#2a3f5f"
           }
          },
          "ternary": {
           "aaxis": {
            "gridcolor": "white",
            "linecolor": "white",
            "ticks": ""
           },
           "baxis": {
            "gridcolor": "white",
            "linecolor": "white",
            "ticks": ""
           },
           "bgcolor": "#E5ECF6",
           "caxis": {
            "gridcolor": "white",
            "linecolor": "white",
            "ticks": ""
           }
          },
          "title": {
           "x": 0.05
          },
          "xaxis": {
           "automargin": true,
           "gridcolor": "white",
           "linecolor": "white",
           "ticks": "",
           "title": {
            "standoff": 15
           },
           "zerolinecolor": "white",
           "zerolinewidth": 2
          },
          "yaxis": {
           "automargin": true,
           "gridcolor": "white",
           "linecolor": "white",
           "ticks": "",
           "title": {
            "standoff": 15
           },
           "zerolinecolor": "white",
           "zerolinewidth": 2
          }
         }
        },
        "title": {
         "text": "avg variable"
        }
       }
      }
     },
     "metadata": {},
     "output_type": "display_data"
    }
   ],
   "source": [
    "target_count()"
   ]
  },
  {
   "cell_type": "markdown",
   "metadata": {},
   "source": [
    "El conjunto de datos está claramente desbalanceado.No lo tomaremos en cuenta por ahora."
   ]
  },
  {
   "cell_type": "code",
   "execution_count": 55,
   "metadata": {},
   "outputs": [
    {
     "ename": "ValueError",
     "evalue": "num must be 1 <= num <= 9, not 10",
     "output_type": "error",
     "traceback": [
      "\u001b[0;31m---------------------------------------------------------------------------\u001b[0m",
      "\u001b[0;31mValueError\u001b[0m                                Traceback (most recent call last)",
      "Cell \u001b[0;32mIn [55], line 5\u001b[0m\n\u001b[1;32m      2\u001b[0m plt\u001b[39m.\u001b[39mfigure(figsize\u001b[39m=\u001b[39m(\u001b[39m20\u001b[39m, \u001b[39m20\u001b[39m))\n\u001b[1;32m      4\u001b[0m \u001b[39mfor\u001b[39;00m i, column \u001b[39min\u001b[39;00m \u001b[39menumerate\u001b[39m(df_train\u001b[39m.\u001b[39mcolumns, \u001b[39m1\u001b[39m):\n\u001b[0;32m----> 5\u001b[0m     plt\u001b[39m.\u001b[39;49msubplot(\u001b[39m3\u001b[39;49m, \u001b[39m3\u001b[39;49m, i)\n\u001b[1;32m      6\u001b[0m     df_train[df_train[\u001b[39m\"\u001b[39m\u001b[39mavg\u001b[39m\u001b[39m\"\u001b[39m] \u001b[39m==\u001b[39m \u001b[39m0\u001b[39m][column]\u001b[39m.\u001b[39mhist(bins\u001b[39m=\u001b[39m\u001b[39m35\u001b[39m, color\u001b[39m=\u001b[39m\u001b[39m'\u001b[39m\u001b[39mblue\u001b[39m\u001b[39m'\u001b[39m, label\u001b[39m=\u001b[39m\u001b[39m'\u001b[39m\u001b[39mEs barata\u001b[39m\u001b[39m'\u001b[39m, alpha\u001b[39m=\u001b[39m\u001b[39m0.6\u001b[39m)\n\u001b[1;32m      7\u001b[0m     df_train[df_train[\u001b[39m\"\u001b[39m\u001b[39mavg\u001b[39m\u001b[39m\"\u001b[39m] \u001b[39m==\u001b[39m \u001b[39m1\u001b[39m][column]\u001b[39m.\u001b[39mhist(bins\u001b[39m=\u001b[39m\u001b[39m35\u001b[39m, color\u001b[39m=\u001b[39m\u001b[39m'\u001b[39m\u001b[39myellow\u001b[39m\u001b[39m'\u001b[39m, label\u001b[39m=\u001b[39m\u001b[39m'\u001b[39m\u001b[39mEs Cara\u001b[39m\u001b[39m'\u001b[39m, alpha\u001b[39m=\u001b[39m\u001b[39m0.6\u001b[39m)\n",
      "File \u001b[0;32m~/.local/lib/python3.10/site-packages/matplotlib/pyplot.py:1254\u001b[0m, in \u001b[0;36msubplot\u001b[0;34m(*args, **kwargs)\u001b[0m\n\u001b[1;32m   1251\u001b[0m fig \u001b[39m=\u001b[39m gcf()\n\u001b[1;32m   1253\u001b[0m \u001b[39m# First, search for an existing subplot with a matching spec.\u001b[39;00m\n\u001b[0;32m-> 1254\u001b[0m key \u001b[39m=\u001b[39m SubplotSpec\u001b[39m.\u001b[39;49m_from_subplot_args(fig, args)\n\u001b[1;32m   1256\u001b[0m \u001b[39mfor\u001b[39;00m ax \u001b[39min\u001b[39;00m fig\u001b[39m.\u001b[39maxes:\n\u001b[1;32m   1257\u001b[0m     \u001b[39m# if we found an Axes at the position sort out if we can re-use it\u001b[39;00m\n\u001b[1;32m   1258\u001b[0m     \u001b[39mif\u001b[39;00m \u001b[39mhasattr\u001b[39m(ax, \u001b[39m'\u001b[39m\u001b[39mget_subplotspec\u001b[39m\u001b[39m'\u001b[39m) \u001b[39mand\u001b[39;00m ax\u001b[39m.\u001b[39mget_subplotspec() \u001b[39m==\u001b[39m key:\n\u001b[1;32m   1259\u001b[0m         \u001b[39m# if the user passed no kwargs, re-use\u001b[39;00m\n",
      "File \u001b[0;32m~/.local/lib/python3.10/site-packages/matplotlib/gridspec.py:612\u001b[0m, in \u001b[0;36mSubplotSpec._from_subplot_args\u001b[0;34m(figure, args)\u001b[0m\n\u001b[1;32m    610\u001b[0m \u001b[39melse\u001b[39;00m:\n\u001b[1;32m    611\u001b[0m     \u001b[39mif\u001b[39;00m \u001b[39mnot\u001b[39;00m \u001b[39misinstance\u001b[39m(num, Integral) \u001b[39mor\u001b[39;00m num \u001b[39m<\u001b[39m \u001b[39m1\u001b[39m \u001b[39mor\u001b[39;00m num \u001b[39m>\u001b[39m rows\u001b[39m*\u001b[39mcols:\n\u001b[0;32m--> 612\u001b[0m         \u001b[39mraise\u001b[39;00m \u001b[39mValueError\u001b[39;00m(\n\u001b[1;32m    613\u001b[0m             \u001b[39mf\u001b[39m\u001b[39m\"\u001b[39m\u001b[39mnum must be 1 <= num <= \u001b[39m\u001b[39m{\u001b[39;00mrows\u001b[39m*\u001b[39mcols\u001b[39m}\u001b[39;00m\u001b[39m, not \u001b[39m\u001b[39m{\u001b[39;00mnum\u001b[39m!r}\u001b[39;00m\u001b[39m\"\u001b[39m)\n\u001b[1;32m    614\u001b[0m     i \u001b[39m=\u001b[39m j \u001b[39m=\u001b[39m num\n\u001b[1;32m    615\u001b[0m \u001b[39mreturn\u001b[39;00m gs[i\u001b[39m-\u001b[39m\u001b[39m1\u001b[39m:j]\n",
      "\u001b[0;31mValueError\u001b[0m: num must be 1 <= num <= 9, not 10"
     ]
    },
    {
     "data": {
      "image/png": "[encoded data removed]",
      "text/plain": [
       "<Figure size 2000x2000 with 9 Axes>"
      ]
     },
     "metadata": {},
     "output_type": "display_data"
    }
   ],
   "source": [
    "import matplotlib.pyplot as plt\n",
    "plt.figure(figsize=(20, 20))\n",
    "\n",
    "for i, column in enumerate(df_train.columns, 1):\n",
    "    plt.subplot(3, 3, i)\n",
    "    df_train[df_train[\"avg\"] == 0][column].hist(bins=35, color='blue', label='Es barata', alpha=0.6)\n",
    "    df_train[df_train[\"avg\"] == 1][column].hist(bins=35, color='yellow', label='Es Cara', alpha=0.6)\n",
    "    plt.legend()\n",
    "    plt.xlabel(column)\n",
    "\n",
    "# Visualización de la distribución de los datos para cada feature"
   ]
  },
  {
   "cell_type": "code",
   "execution_count": 37,
   "metadata": {},
   "outputs": [
    {
     "name": "stdout",
     "output_type": "stream",
     "text": [
      "Datos para Modelar: (158039, 20)\n",
      "Datos de testeo para predicciones (39510, 20)\n"
     ]
    }
   ],
   "source": [
    "df_train_ent = df_train.sample(frac=0.80, random_state=786)\n",
    "df_train_test = df_train.drop(df_train_ent.index).reset_index(drop=True)\n",
    "df_train_ent.reset_index(drop=True, inplace=True)\n",
    "\n",
    "print('Datos para Modelar: ' + str(df_train_ent.shape))\n",
    "print('Datos de testeo para predicciones ' + str(df_train_test.shape))\n",
    "\n",
    "#Generación del conjunto de datos de entrenamiento y de testeo.\n",
    "\n"
   ]
  },
  {
   "cell_type": "code",
   "execution_count": 8,
   "metadata": {},
   "outputs": [],
   "source": [
    "from pycaret.classification import *"
   ]
  },
  {
   "cell_type": "code",
   "execution_count": 9,
   "metadata": {},
   "outputs": [
    {
     "data": {
      "text/html": [
       "<style type=\"text/css\">\n",
       "#T_0049c_row11_col1, #T_0049c_row18_col1, #T_0049c_row20_col1, #T_0049c_row22_col1 {\n",
       "  background-color: lightgreen;\n",
       "}\n",
       "</style>\n",
       "<table id=\"T_0049c_\">\n",
       "  <thead>\n",
       "    <tr>\n",
       "      <th class=\"blank level0\" >&nbsp;</th>\n",
       "      <th class=\"col_heading level0 col0\" >Description</th>\n",
       "      <th class=\"col_heading level0 col1\" >Value</th>\n",
       "    </tr>\n",
       "  </thead>\n",
       "  <tbody>\n",
       "    <tr>\n",
       "      <th id=\"T_0049c_level0_row0\" class=\"row_heading level0 row0\" >0</th>\n",
       "      <td id=\"T_0049c_row0_col0\" class=\"data row0 col0\" >Session id</td>\n",
       "      <td id=\"T_0049c_row0_col1\" class=\"data row0 col1\" >1229</td>\n",
       "    </tr>\n",
       "    <tr>\n",
       "      <th id=\"T_0049c_level0_row1\" class=\"row_heading level0 row1\" >1</th>\n",
       "      <td id=\"T_0049c_row1_col0\" class=\"data row1 col0\" >Target</td>\n",
       "      <td id=\"T_0049c_row1_col1\" class=\"data row1 col1\" >avg</td>\n",
       "    </tr>\n",
       "    <tr>\n",
       "      <th id=\"T_0049c_level0_row2\" class=\"row_heading level0 row2\" >2</th>\n",
       "      <td id=\"T_0049c_row2_col0\" class=\"data row2 col0\" >Target type</td>\n",
       "      <td id=\"T_0049c_row2_col1\" class=\"data row2 col1\" >Binary</td>\n",
       "    </tr>\n",
       "    <tr>\n",
       "      <th id=\"T_0049c_level0_row3\" class=\"row_heading level0 row3\" >3</th>\n",
       "      <td id=\"T_0049c_row3_col0\" class=\"data row3 col0\" >Original data shape</td>\n",
       "      <td id=\"T_0049c_row3_col1\" class=\"data row3 col1\" >(187672, 20)</td>\n",
       "    </tr>\n",
       "    <tr>\n",
       "      <th id=\"T_0049c_level0_row4\" class=\"row_heading level0 row4\" >4</th>\n",
       "      <td id=\"T_0049c_row4_col0\" class=\"data row4 col0\" >Transformed data shape</td>\n",
       "      <td id=\"T_0049c_row4_col1\" class=\"data row4 col1\" >(187672, 17)</td>\n",
       "    </tr>\n",
       "    <tr>\n",
       "      <th id=\"T_0049c_level0_row5\" class=\"row_heading level0 row5\" >5</th>\n",
       "      <td id=\"T_0049c_row5_col0\" class=\"data row5 col0\" >Transformed train set shape</td>\n",
       "      <td id=\"T_0049c_row5_col1\" class=\"data row5 col1\" >(131370, 17)</td>\n",
       "    </tr>\n",
       "    <tr>\n",
       "      <th id=\"T_0049c_level0_row6\" class=\"row_heading level0 row6\" >6</th>\n",
       "      <td id=\"T_0049c_row6_col0\" class=\"data row6 col0\" >Transformed test set shape</td>\n",
       "      <td id=\"T_0049c_row6_col1\" class=\"data row6 col1\" >(56302, 17)</td>\n",
       "    </tr>\n",
       "    <tr>\n",
       "      <th id=\"T_0049c_level0_row7\" class=\"row_heading level0 row7\" >7</th>\n",
       "      <td id=\"T_0049c_row7_col0\" class=\"data row7 col0\" >Ordinal features</td>\n",
       "      <td id=\"T_0049c_row7_col1\" class=\"data row7 col1\" >1</td>\n",
       "    </tr>\n",
       "    <tr>\n",
       "      <th id=\"T_0049c_level0_row8\" class=\"row_heading level0 row8\" >8</th>\n",
       "      <td id=\"T_0049c_row8_col0\" class=\"data row8 col0\" >Numeric features</td>\n",
       "      <td id=\"T_0049c_row8_col1\" class=\"data row8 col1\" >9</td>\n",
       "    </tr>\n",
       "    <tr>\n",
       "      <th id=\"T_0049c_level0_row9\" class=\"row_heading level0 row9\" >9</th>\n",
       "      <td id=\"T_0049c_row9_col0\" class=\"data row9 col0\" >Categorical features</td>\n",
       "      <td id=\"T_0049c_row9_col1\" class=\"data row9 col1\" >10</td>\n",
       "    </tr>\n",
       "    <tr>\n",
       "      <th id=\"T_0049c_level0_row10\" class=\"row_heading level0 row10\" >10</th>\n",
       "      <td id=\"T_0049c_row10_col0\" class=\"data row10 col0\" >Rows with missing values</td>\n",
       "      <td id=\"T_0049c_row10_col1\" class=\"data row10 col1\" >97.6%</td>\n",
       "    </tr>\n",
       "    <tr>\n",
       "      <th id=\"T_0049c_level0_row11\" class=\"row_heading level0 row11\" >11</th>\n",
       "      <td id=\"T_0049c_row11_col0\" class=\"data row11 col0\" >Preprocess</td>\n",
       "      <td id=\"T_0049c_row11_col1\" class=\"data row11 col1\" >True</td>\n",
       "    </tr>\n",
       "    <tr>\n",
       "      <th id=\"T_0049c_level0_row12\" class=\"row_heading level0 row12\" >12</th>\n",
       "      <td id=\"T_0049c_row12_col0\" class=\"data row12 col0\" >Imputation type</td>\n",
       "      <td id=\"T_0049c_row12_col1\" class=\"data row12 col1\" >simple</td>\n",
       "    </tr>\n",
       "    <tr>\n",
       "      <th id=\"T_0049c_level0_row13\" class=\"row_heading level0 row13\" >13</th>\n",
       "      <td id=\"T_0049c_row13_col0\" class=\"data row13 col0\" >Numeric imputation</td>\n",
       "      <td id=\"T_0049c_row13_col1\" class=\"data row13 col1\" >mean</td>\n",
       "    </tr>\n",
       "    <tr>\n",
       "      <th id=\"T_0049c_level0_row14\" class=\"row_heading level0 row14\" >14</th>\n",
       "      <td id=\"T_0049c_row14_col0\" class=\"data row14 col0\" >Categorical imputation</td>\n",
       "      <td id=\"T_0049c_row14_col1\" class=\"data row14 col1\" >constant</td>\n",
       "    </tr>\n",
       "    <tr>\n",
       "      <th id=\"T_0049c_level0_row15\" class=\"row_heading level0 row15\" >15</th>\n",
       "      <td id=\"T_0049c_row15_col0\" class=\"data row15 col0\" >Maximum one-hot encoding</td>\n",
       "      <td id=\"T_0049c_row15_col1\" class=\"data row15 col1\" >5</td>\n",
       "    </tr>\n",
       "    <tr>\n",
       "      <th id=\"T_0049c_level0_row16\" class=\"row_heading level0 row16\" >16</th>\n",
       "      <td id=\"T_0049c_row16_col0\" class=\"data row16 col0\" >Encoding method</td>\n",
       "      <td id=\"T_0049c_row16_col1\" class=\"data row16 col1\" >None</td>\n",
       "    </tr>\n",
       "    <tr>\n",
       "      <th id=\"T_0049c_level0_row17\" class=\"row_heading level0 row17\" >17</th>\n",
       "      <td id=\"T_0049c_row17_col0\" class=\"data row17 col0\" >Low variance threshold</td>\n",
       "      <td id=\"T_0049c_row17_col1\" class=\"data row17 col1\" >0</td>\n",
       "    </tr>\n",
       "    <tr>\n",
       "      <th id=\"T_0049c_level0_row18\" class=\"row_heading level0 row18\" >18</th>\n",
       "      <td id=\"T_0049c_row18_col0\" class=\"data row18 col0\" >Remove multicollinearity</td>\n",
       "      <td id=\"T_0049c_row18_col1\" class=\"data row18 col1\" >True</td>\n",
       "    </tr>\n",
       "    <tr>\n",
       "      <th id=\"T_0049c_level0_row19\" class=\"row_heading level0 row19\" >19</th>\n",
       "      <td id=\"T_0049c_row19_col0\" class=\"data row19 col0\" >Multicollinearity threshold</td>\n",
       "      <td id=\"T_0049c_row19_col1\" class=\"data row19 col1\" >0.950000</td>\n",
       "    </tr>\n",
       "    <tr>\n",
       "      <th id=\"T_0049c_level0_row20\" class=\"row_heading level0 row20\" >20</th>\n",
       "      <td id=\"T_0049c_row20_col0\" class=\"data row20 col0\" >Transformation</td>\n",
       "      <td id=\"T_0049c_row20_col1\" class=\"data row20 col1\" >True</td>\n",
       "    </tr>\n",
       "    <tr>\n",
       "      <th id=\"T_0049c_level0_row21\" class=\"row_heading level0 row21\" >21</th>\n",
       "      <td id=\"T_0049c_row21_col0\" class=\"data row21 col0\" >Transformation method</td>\n",
       "      <td id=\"T_0049c_row21_col1\" class=\"data row21 col1\" >yeo-johnson</td>\n",
       "    </tr>\n",
       "    <tr>\n",
       "      <th id=\"T_0049c_level0_row22\" class=\"row_heading level0 row22\" >22</th>\n",
       "      <td id=\"T_0049c_row22_col0\" class=\"data row22 col0\" >Normalize</td>\n",
       "      <td id=\"T_0049c_row22_col1\" class=\"data row22 col1\" >True</td>\n",
       "    </tr>\n",
       "    <tr>\n",
       "      <th id=\"T_0049c_level0_row23\" class=\"row_heading level0 row23\" >23</th>\n",
       "      <td id=\"T_0049c_row23_col0\" class=\"data row23 col0\" >Normalize method</td>\n",
       "      <td id=\"T_0049c_row23_col1\" class=\"data row23 col1\" >zscore</td>\n",
       "    </tr>\n",
       "    <tr>\n",
       "      <th id=\"T_0049c_level0_row24\" class=\"row_heading level0 row24\" >24</th>\n",
       "      <td id=\"T_0049c_row24_col0\" class=\"data row24 col0\" >Fold Generator</td>\n",
       "      <td id=\"T_0049c_row24_col1\" class=\"data row24 col1\" >StratifiedKFold</td>\n",
       "    </tr>\n",
       "    <tr>\n",
       "      <th id=\"T_0049c_level0_row25\" class=\"row_heading level0 row25\" >25</th>\n",
       "      <td id=\"T_0049c_row25_col0\" class=\"data row25 col0\" >Fold Number</td>\n",
       "      <td id=\"T_0049c_row25_col1\" class=\"data row25 col1\" >10</td>\n",
       "    </tr>\n",
       "    <tr>\n",
       "      <th id=\"T_0049c_level0_row26\" class=\"row_heading level0 row26\" >26</th>\n",
       "      <td id=\"T_0049c_row26_col0\" class=\"data row26 col0\" >CPU Jobs</td>\n",
       "      <td id=\"T_0049c_row26_col1\" class=\"data row26 col1\" >-1</td>\n",
       "    </tr>\n",
       "    <tr>\n",
       "      <th id=\"T_0049c_level0_row27\" class=\"row_heading level0 row27\" >27</th>\n",
       "      <td id=\"T_0049c_row27_col0\" class=\"data row27 col0\" >Use GPU</td>\n",
       "      <td id=\"T_0049c_row27_col1\" class=\"data row27 col1\" >False</td>\n",
       "    </tr>\n",
       "    <tr>\n",
       "      <th id=\"T_0049c_level0_row28\" class=\"row_heading level0 row28\" >28</th>\n",
       "      <td id=\"T_0049c_row28_col0\" class=\"data row28 col0\" >Log Experiment</td>\n",
       "      <td id=\"T_0049c_row28_col1\" class=\"data row28 col1\" >False</td>\n",
       "    </tr>\n",
       "    <tr>\n",
       "      <th id=\"T_0049c_level0_row29\" class=\"row_heading level0 row29\" >29</th>\n",
       "      <td id=\"T_0049c_row29_col0\" class=\"data row29 col0\" >Experiment Name</td>\n",
       "      <td id=\"T_0049c_row29_col1\" class=\"data row29 col1\" >clf-default-name</td>\n",
       "    </tr>\n",
       "    <tr>\n",
       "      <th id=\"T_0049c_level0_row30\" class=\"row_heading level0 row30\" >30</th>\n",
       "      <td id=\"T_0049c_row30_col0\" class=\"data row30 col0\" >USI</td>\n",
       "      <td id=\"T_0049c_row30_col1\" class=\"data row30 col1\" >3ecc</td>\n",
       "    </tr>\n",
       "  </tbody>\n",
       "</table>\n"
      ],
      "text/plain": [
       "<pandas.io.formats.style.Styler at 0x7f91c875d510>"
      ]
     },
     "metadata": {},
     "output_type": "display_data"
    }
   ],
   "source": [
    "clf = setup(data = df_train_ent, target = 'avg',session_id=1229,normalize=True,transformation=True,\n",
    "           remove_multicollinearity=True, multicollinearity_threshold=0.95)\n",
    "\n",
    "# seteo de PyCaret"
   ]
  },
  {
   "cell_type": "code",
   "execution_count": 10,
   "metadata": {},
   "outputs": [
    {
     "data": {
      "text/html": [],
      "text/plain": [
       "<IPython.core.display.HTML object>"
      ]
     },
     "metadata": {},
     "output_type": "display_data"
    },
    {
     "data": {
      "text/html": [
       "<style type=\"text/css\">\n",
       "#T_c2672_ th {\n",
       "  text-align: left;\n",
       "}\n",
       "#T_c2672_row0_col0, #T_c2672_row0_col1, #T_c2672_row0_col3, #T_c2672_row0_col4, #T_c2672_row0_col5, #T_c2672_row0_col6, #T_c2672_row0_col7, #T_c2672_row1_col0, #T_c2672_row2_col0, #T_c2672_row2_col1, #T_c2672_row2_col3, #T_c2672_row2_col5, #T_c2672_row2_col6, #T_c2672_row2_col7, #T_c2672_row3_col0, #T_c2672_row4_col0, #T_c2672_row5_col0, #T_c2672_row5_col1, #T_c2672_row5_col2, #T_c2672_row5_col3, #T_c2672_row5_col4, #T_c2672_row5_col5, #T_c2672_row5_col6, #T_c2672_row5_col7, #T_c2672_row6_col0, #T_c2672_row6_col1, #T_c2672_row6_col2, #T_c2672_row6_col3, #T_c2672_row6_col4, #T_c2672_row6_col5, #T_c2672_row6_col6, #T_c2672_row6_col7, #T_c2672_row7_col0, #T_c2672_row7_col1, #T_c2672_row7_col2, #T_c2672_row7_col3, #T_c2672_row7_col4, #T_c2672_row7_col5, #T_c2672_row7_col6, #T_c2672_row7_col7, #T_c2672_row8_col0, #T_c2672_row8_col1, #T_c2672_row8_col2, #T_c2672_row8_col4, #T_c2672_row8_col5, #T_c2672_row8_col6, #T_c2672_row8_col7, #T_c2672_row9_col0, #T_c2672_row9_col1, #T_c2672_row9_col2, #T_c2672_row9_col3, #T_c2672_row9_col4, #T_c2672_row9_col5, #T_c2672_row9_col6, #T_c2672_row9_col7, #T_c2672_row10_col0, #T_c2672_row10_col1, #T_c2672_row10_col2, #T_c2672_row10_col3, #T_c2672_row10_col4, #T_c2672_row10_col5, #T_c2672_row10_col6, #T_c2672_row10_col7, #T_c2672_row11_col0, #T_c2672_row11_col1, #T_c2672_row11_col2, #T_c2672_row11_col3, #T_c2672_row11_col4, #T_c2672_row11_col5, #T_c2672_row11_col6, #T_c2672_row11_col7, #T_c2672_row12_col0, #T_c2672_row12_col1, #T_c2672_row12_col2, #T_c2672_row12_col3, #T_c2672_row12_col4, #T_c2672_row12_col5, #T_c2672_row12_col6, #T_c2672_row12_col7 {\n",
       "  text-align: left;\n",
       "}\n",
       "#T_c2672_row0_col2, #T_c2672_row1_col1, #T_c2672_row1_col2, #T_c2672_row1_col3, #T_c2672_row1_col4, #T_c2672_row1_col5, #T_c2672_row1_col6, #T_c2672_row1_col7, #T_c2672_row2_col2, #T_c2672_row2_col4, #T_c2672_row3_col1, #T_c2672_row3_col2, #T_c2672_row3_col3, #T_c2672_row3_col4, #T_c2672_row3_col5, #T_c2672_row3_col6, #T_c2672_row3_col7, #T_c2672_row4_col1, #T_c2672_row4_col2, #T_c2672_row4_col3, #T_c2672_row4_col4, #T_c2672_row4_col5, #T_c2672_row4_col6, #T_c2672_row4_col7, #T_c2672_row8_col3 {\n",
       "  text-align: left;\n",
       "  background-color: yellow;\n",
       "}\n",
       "#T_c2672_row0_col8, #T_c2672_row1_col8, #T_c2672_row2_col8, #T_c2672_row3_col8, #T_c2672_row4_col8, #T_c2672_row5_col8, #T_c2672_row6_col8, #T_c2672_row7_col8, #T_c2672_row8_col8, #T_c2672_row9_col8, #T_c2672_row10_col8, #T_c2672_row11_col8 {\n",
       "  text-align: left;\n",
       "  background-color: lightgrey;\n",
       "}\n",
       "#T_c2672_row12_col8 {\n",
       "  text-align: left;\n",
       "  background-color: yellow;\n",
       "  background-color: lightgrey;\n",
       "}\n",
       "</style>\n",
       "<table id=\"T_c2672_\">\n",
       "  <thead>\n",
       "    <tr>\n",
       "      <th class=\"blank level0\" >&nbsp;</th>\n",
       "      <th class=\"col_heading level0 col0\" >Model</th>\n",
       "      <th class=\"col_heading level0 col1\" >Accuracy</th>\n",
       "      <th class=\"col_heading level0 col2\" >AUC</th>\n",
       "      <th class=\"col_heading level0 col3\" >Recall</th>\n",
       "      <th class=\"col_heading level0 col4\" >Prec.</th>\n",
       "      <th class=\"col_heading level0 col5\" >F1</th>\n",
       "      <th class=\"col_heading level0 col6\" >Kappa</th>\n",
       "      <th class=\"col_heading level0 col7\" >MCC</th>\n",
       "      <th class=\"col_heading level0 col8\" >TT (Sec)</th>\n",
       "    </tr>\n",
       "  </thead>\n",
       "  <tbody>\n",
       "    <tr>\n",
       "      <th id=\"T_c2672_level0_row0\" class=\"row_heading level0 row0\" >lr</th>\n",
       "      <td id=\"T_c2672_row0_col0\" class=\"data row0 col0\" >Logistic Regression</td>\n",
       "      <td id=\"T_c2672_row0_col1\" class=\"data row0 col1\" >0.9987</td>\n",
       "      <td id=\"T_c2672_row0_col2\" class=\"data row0 col2\" >1.0000</td>\n",
       "      <td id=\"T_c2672_row0_col3\" class=\"data row0 col3\" >0.9991</td>\n",
       "      <td id=\"T_c2672_row0_col4\" class=\"data row0 col4\" >0.9954</td>\n",
       "      <td id=\"T_c2672_row0_col5\" class=\"data row0 col5\" >0.9972</td>\n",
       "      <td id=\"T_c2672_row0_col6\" class=\"data row0 col6\" >0.9964</td>\n",
       "      <td id=\"T_c2672_row0_col7\" class=\"data row0 col7\" >0.9964</td>\n",
       "      <td id=\"T_c2672_row0_col8\" class=\"data row0 col8\" >34.3200</td>\n",
       "    </tr>\n",
       "    <tr>\n",
       "      <th id=\"T_c2672_level0_row1\" class=\"row_heading level0 row1\" >dt</th>\n",
       "      <td id=\"T_c2672_row1_col0\" class=\"data row1 col0\" >Decision Tree Classifier</td>\n",
       "      <td id=\"T_c2672_row1_col1\" class=\"data row1 col1\" >1.0000</td>\n",
       "      <td id=\"T_c2672_row1_col2\" class=\"data row1 col2\" >1.0000</td>\n",
       "      <td id=\"T_c2672_row1_col3\" class=\"data row1 col3\" >1.0000</td>\n",
       "      <td id=\"T_c2672_row1_col4\" class=\"data row1 col4\" >1.0000</td>\n",
       "      <td id=\"T_c2672_row1_col5\" class=\"data row1 col5\" >1.0000</td>\n",
       "      <td id=\"T_c2672_row1_col6\" class=\"data row1 col6\" >1.0000</td>\n",
       "      <td id=\"T_c2672_row1_col7\" class=\"data row1 col7\" >1.0000</td>\n",
       "      <td id=\"T_c2672_row1_col8\" class=\"data row1 col8\" >11.8180</td>\n",
       "    </tr>\n",
       "    <tr>\n",
       "      <th id=\"T_c2672_level0_row2\" class=\"row_heading level0 row2\" >rf</th>\n",
       "      <td id=\"T_c2672_row2_col0\" class=\"data row2 col0\" >Random Forest Classifier</td>\n",
       "      <td id=\"T_c2672_row2_col1\" class=\"data row2 col1\" >0.9999</td>\n",
       "      <td id=\"T_c2672_row2_col2\" class=\"data row2 col2\" >1.0000</td>\n",
       "      <td id=\"T_c2672_row2_col3\" class=\"data row2 col3\" >0.9997</td>\n",
       "      <td id=\"T_c2672_row2_col4\" class=\"data row2 col4\" >1.0000</td>\n",
       "      <td id=\"T_c2672_row2_col5\" class=\"data row2 col5\" >0.9999</td>\n",
       "      <td id=\"T_c2672_row2_col6\" class=\"data row2 col6\" >0.9998</td>\n",
       "      <td id=\"T_c2672_row2_col7\" class=\"data row2 col7\" >0.9998</td>\n",
       "      <td id=\"T_c2672_row2_col8\" class=\"data row2 col8\" >16.0790</td>\n",
       "    </tr>\n",
       "    <tr>\n",
       "      <th id=\"T_c2672_level0_row3\" class=\"row_heading level0 row3\" >ada</th>\n",
       "      <td id=\"T_c2672_row3_col0\" class=\"data row3 col0\" >Ada Boost Classifier</td>\n",
       "      <td id=\"T_c2672_row3_col1\" class=\"data row3 col1\" >1.0000</td>\n",
       "      <td id=\"T_c2672_row3_col2\" class=\"data row3 col2\" >1.0000</td>\n",
       "      <td id=\"T_c2672_row3_col3\" class=\"data row3 col3\" >1.0000</td>\n",
       "      <td id=\"T_c2672_row3_col4\" class=\"data row3 col4\" >1.0000</td>\n",
       "      <td id=\"T_c2672_row3_col5\" class=\"data row3 col5\" >1.0000</td>\n",
       "      <td id=\"T_c2672_row3_col6\" class=\"data row3 col6\" >1.0000</td>\n",
       "      <td id=\"T_c2672_row3_col7\" class=\"data row3 col7\" >1.0000</td>\n",
       "      <td id=\"T_c2672_row3_col8\" class=\"data row3 col8\" >14.2050</td>\n",
       "    </tr>\n",
       "    <tr>\n",
       "      <th id=\"T_c2672_level0_row4\" class=\"row_heading level0 row4\" >gbc</th>\n",
       "      <td id=\"T_c2672_row4_col0\" class=\"data row4 col0\" >Gradient Boosting Classifier</td>\n",
       "      <td id=\"T_c2672_row4_col1\" class=\"data row4 col1\" >1.0000</td>\n",
       "      <td id=\"T_c2672_row4_col2\" class=\"data row4 col2\" >1.0000</td>\n",
       "      <td id=\"T_c2672_row4_col3\" class=\"data row4 col3\" >1.0000</td>\n",
       "      <td id=\"T_c2672_row4_col4\" class=\"data row4 col4\" >1.0000</td>\n",
       "      <td id=\"T_c2672_row4_col5\" class=\"data row4 col5\" >1.0000</td>\n",
       "      <td id=\"T_c2672_row4_col6\" class=\"data row4 col6\" >1.0000</td>\n",
       "      <td id=\"T_c2672_row4_col7\" class=\"data row4 col7\" >1.0000</td>\n",
       "      <td id=\"T_c2672_row4_col8\" class=\"data row4 col8\" >18.5640</td>\n",
       "    </tr>\n",
       "    <tr>\n",
       "      <th id=\"T_c2672_level0_row5\" class=\"row_heading level0 row5\" >lda</th>\n",
       "      <td id=\"T_c2672_row5_col0\" class=\"data row5 col0\" >Linear Discriminant Analysis</td>\n",
       "      <td id=\"T_c2672_row5_col1\" class=\"data row5 col1\" >0.9768</td>\n",
       "      <td id=\"T_c2672_row5_col2\" class=\"data row5 col2\" >0.9971</td>\n",
       "      <td id=\"T_c2672_row5_col3\" class=\"data row5 col3\" >0.9309</td>\n",
       "      <td id=\"T_c2672_row5_col4\" class=\"data row5 col4\" >0.9691</td>\n",
       "      <td id=\"T_c2672_row5_col5\" class=\"data row5 col5\" >0.9496</td>\n",
       "      <td id=\"T_c2672_row5_col6\" class=\"data row5 col6\" >0.9345</td>\n",
       "      <td id=\"T_c2672_row5_col7\" class=\"data row5 col7\" >0.9348</td>\n",
       "      <td id=\"T_c2672_row5_col8\" class=\"data row5 col8\" >11.6000</td>\n",
       "    </tr>\n",
       "    <tr>\n",
       "      <th id=\"T_c2672_level0_row6\" class=\"row_heading level0 row6\" >et</th>\n",
       "      <td id=\"T_c2672_row6_col0\" class=\"data row6 col0\" >Extra Trees Classifier</td>\n",
       "      <td id=\"T_c2672_row6_col1\" class=\"data row6 col1\" >0.9356</td>\n",
       "      <td id=\"T_c2672_row6_col2\" class=\"data row6 col2\" >0.9945</td>\n",
       "      <td id=\"T_c2672_row6_col3\" class=\"data row6 col3\" >0.7278</td>\n",
       "      <td id=\"T_c2672_row6_col4\" class=\"data row6 col4\" >0.9972</td>\n",
       "      <td id=\"T_c2672_row6_col5\" class=\"data row6 col5\" >0.8412</td>\n",
       "      <td id=\"T_c2672_row6_col6\" class=\"data row6 col6\" >0.8021</td>\n",
       "      <td id=\"T_c2672_row6_col7\" class=\"data row6 col7\" >0.8179</td>\n",
       "      <td id=\"T_c2672_row6_col8\" class=\"data row6 col8\" >16.9840</td>\n",
       "    </tr>\n",
       "    <tr>\n",
       "      <th id=\"T_c2672_level0_row7\" class=\"row_heading level0 row7\" >knn</th>\n",
       "      <td id=\"T_c2672_row7_col0\" class=\"data row7 col0\" >K Neighbors Classifier</td>\n",
       "      <td id=\"T_c2672_row7_col1\" class=\"data row7 col1\" >0.9701</td>\n",
       "      <td id=\"T_c2672_row7_col2\" class=\"data row7 col2\" >0.9908</td>\n",
       "      <td id=\"T_c2672_row7_col3\" class=\"data row7 col3\" >0.9212</td>\n",
       "      <td id=\"T_c2672_row7_col4\" class=\"data row7 col4\" >0.9498</td>\n",
       "      <td id=\"T_c2672_row7_col5\" class=\"data row7 col5\" >0.9353</td>\n",
       "      <td id=\"T_c2672_row7_col6\" class=\"data row7 col6\" >0.9159</td>\n",
       "      <td id=\"T_c2672_row7_col7\" class=\"data row7 col7\" >0.9160</td>\n",
       "      <td id=\"T_c2672_row7_col8\" class=\"data row7 col8\" >24.9690</td>\n",
       "    </tr>\n",
       "    <tr>\n",
       "      <th id=\"T_c2672_level0_row8\" class=\"row_heading level0 row8\" >qda</th>\n",
       "      <td id=\"T_c2672_row8_col0\" class=\"data row8 col0\" >Quadratic Discriminant Analysis</td>\n",
       "      <td id=\"T_c2672_row8_col1\" class=\"data row8 col1\" >0.2352</td>\n",
       "      <td id=\"T_c2672_row8_col2\" class=\"data row8 col2\" >0.9662</td>\n",
       "      <td id=\"T_c2672_row8_col3\" class=\"data row8 col3\" >1.0000</td>\n",
       "      <td id=\"T_c2672_row8_col4\" class=\"data row8 col4\" >0.2349</td>\n",
       "      <td id=\"T_c2672_row8_col5\" class=\"data row8 col5\" >0.3805</td>\n",
       "      <td id=\"T_c2672_row8_col6\" class=\"data row8 col6\" >0.0002</td>\n",
       "      <td id=\"T_c2672_row8_col7\" class=\"data row8 col7\" >0.0106</td>\n",
       "      <td id=\"T_c2672_row8_col8\" class=\"data row8 col8\" >11.9460</td>\n",
       "    </tr>\n",
       "    <tr>\n",
       "      <th id=\"T_c2672_level0_row9\" class=\"row_heading level0 row9\" >nb</th>\n",
       "      <td id=\"T_c2672_row9_col0\" class=\"data row9 col0\" >Naive Bayes</td>\n",
       "      <td id=\"T_c2672_row9_col1\" class=\"data row9 col1\" >0.5474</td>\n",
       "      <td id=\"T_c2672_row9_col2\" class=\"data row9 col2\" >0.9623</td>\n",
       "      <td id=\"T_c2672_row9_col3\" class=\"data row9 col3\" >0.9999</td>\n",
       "      <td id=\"T_c2672_row9_col4\" class=\"data row9 col4\" >0.3416</td>\n",
       "      <td id=\"T_c2672_row9_col5\" class=\"data row9 col5\" >0.5092</td>\n",
       "      <td id=\"T_c2672_row9_col6\" class=\"data row9 col6\" >0.2449</td>\n",
       "      <td id=\"T_c2672_row9_col7\" class=\"data row9 col7\" >0.3735</td>\n",
       "      <td id=\"T_c2672_row9_col8\" class=\"data row9 col8\" >11.7460</td>\n",
       "    </tr>\n",
       "    <tr>\n",
       "      <th id=\"T_c2672_level0_row10\" class=\"row_heading level0 row10\" >dummy</th>\n",
       "      <td id=\"T_c2672_row10_col0\" class=\"data row10 col0\" >Dummy Classifier</td>\n",
       "      <td id=\"T_c2672_row10_col1\" class=\"data row10 col1\" >0.7652</td>\n",
       "      <td id=\"T_c2672_row10_col2\" class=\"data row10 col2\" >0.5000</td>\n",
       "      <td id=\"T_c2672_row10_col3\" class=\"data row10 col3\" >0.0000</td>\n",
       "      <td id=\"T_c2672_row10_col4\" class=\"data row10 col4\" >0.0000</td>\n",
       "      <td id=\"T_c2672_row10_col5\" class=\"data row10 col5\" >0.0000</td>\n",
       "      <td id=\"T_c2672_row10_col6\" class=\"data row10 col6\" >0.0000</td>\n",
       "      <td id=\"T_c2672_row10_col7\" class=\"data row10 col7\" >0.0000</td>\n",
       "      <td id=\"T_c2672_row10_col8\" class=\"data row10 col8\" >11.8940</td>\n",
       "    </tr>\n",
       "    <tr>\n",
       "      <th id=\"T_c2672_level0_row11\" class=\"row_heading level0 row11\" >svm</th>\n",
       "      <td id=\"T_c2672_row11_col0\" class=\"data row11 col0\" >SVM - Linear Kernel</td>\n",
       "      <td id=\"T_c2672_row11_col1\" class=\"data row11 col1\" >0.9973</td>\n",
       "      <td id=\"T_c2672_row11_col2\" class=\"data row11 col2\" >0.0000</td>\n",
       "      <td id=\"T_c2672_row11_col3\" class=\"data row11 col3\" >0.9954</td>\n",
       "      <td id=\"T_c2672_row11_col4\" class=\"data row11 col4\" >0.9931</td>\n",
       "      <td id=\"T_c2672_row11_col5\" class=\"data row11 col5\" >0.9942</td>\n",
       "      <td id=\"T_c2672_row11_col6\" class=\"data row11 col6\" >0.9924</td>\n",
       "      <td id=\"T_c2672_row11_col7\" class=\"data row11 col7\" >0.9925</td>\n",
       "      <td id=\"T_c2672_row11_col8\" class=\"data row11 col8\" >9.5590</td>\n",
       "    </tr>\n",
       "    <tr>\n",
       "      <th id=\"T_c2672_level0_row12\" class=\"row_heading level0 row12\" >ridge</th>\n",
       "      <td id=\"T_c2672_row12_col0\" class=\"data row12 col0\" >Ridge Classifier</td>\n",
       "      <td id=\"T_c2672_row12_col1\" class=\"data row12 col1\" >0.9722</td>\n",
       "      <td id=\"T_c2672_row12_col2\" class=\"data row12 col2\" >0.0000</td>\n",
       "      <td id=\"T_c2672_row12_col3\" class=\"data row12 col3\" >0.8984</td>\n",
       "      <td id=\"T_c2672_row12_col4\" class=\"data row12 col4\" >0.9816</td>\n",
       "      <td id=\"T_c2672_row12_col5\" class=\"data row12 col5\" >0.9382</td>\n",
       "      <td id=\"T_c2672_row12_col6\" class=\"data row12 col6\" >0.9203</td>\n",
       "      <td id=\"T_c2672_row12_col7\" class=\"data row12 col7\" >0.9218</td>\n",
       "      <td id=\"T_c2672_row12_col8\" class=\"data row12 col8\" >9.4950</td>\n",
       "    </tr>\n",
       "  </tbody>\n",
       "</table>\n"
      ],
      "text/plain": [
       "<pandas.io.formats.style.Styler at 0x7f91d51e7fa0>"
      ]
     },
     "metadata": {},
     "output_type": "display_data"
    },
    {
     "data": {
      "text/html": [],
      "text/plain": [
       "<IPython.core.display.HTML object>"
      ]
     },
     "metadata": {},
     "output_type": "display_data"
    },
    {
     "name": "stderr",
     "output_type": "stream",
     "text": [
      "[LightGBM] [Fatal] Do not support special JSON characters in feature name.\n",
      "[LightGBM] [Fatal] Do not support special JSON characters in feature name.\n",
      "[LightGBM] [Fatal] Do not support special JSON characters in feature name.\n",
      "[LightGBM] [Fatal] Do not support special JSON characters in feature name.\n",
      "[LightGBM] [Fatal] Do not support special JSON characters in feature name.\n",
      "[LightGBM] [Fatal] Do not support special JSON characters in feature name.\n",
      "[LightGBM] [Fatal] Do not support special JSON characters in feature name.\n",
      "[LightGBM] [Fatal] Do not support special JSON characters in feature name.\n",
      "[LightGBM] [Fatal] Do not support special JSON characters in feature name.\n",
      "[LightGBM] [Fatal] Do not support special JSON characters in feature name.\n",
      "[LightGBM] [Fatal] Do not support special JSON characters in feature name.\n",
      "[LightGBM] [Fatal] Do not support special JSON characters in feature name.\n",
      "[LightGBM] [Fatal] Do not support special JSON characters in feature name.\n",
      "[LightGBM] [Fatal] Do not support special JSON characters in feature name.\n",
      "[LightGBM] [Fatal] Do not support special JSON characters in feature name.\n",
      "[LightGBM] [Fatal] Do not support special JSON characters in feature name.\n",
      "[LightGBM] [Fatal] Do not support special JSON characters in feature name.\n",
      "[LightGBM] [Fatal] Do not support special JSON characters in feature name.\n",
      "[LightGBM] [Fatal] Do not support special JSON characters in feature name.\n",
      "[LightGBM] [Fatal] Do not support special JSON characters in feature name.\n"
     ]
    },
    {
     "data": {
      "text/html": [
       "<style>#sk-container-id-1 {color: black;background-color: white;}#sk-container-id-1 pre{padding: 0;}#sk-container-id-1 div.sk-toggleable {background-color: white;}#sk-container-id-1 label.sk-toggleable__label {cursor: pointer;display: block;width: 100%;margin-bottom: 0;padding: 0.3em;box-sizing: border-box;text-align: center;}#sk-container-id-1 label.sk-toggleable__label-arrow:before {content: \"▸\";float: left;margin-right: 0.25em;color: #696969;}#sk-container-id-1 label.sk-toggleable__label-arrow:hover:before {color: black;}#sk-container-id-1 div.sk-estimator:hover label.sk-toggleable__label-arrow:before {color: black;}#sk-container-id-1 div.sk-toggleable__content {max-height: 0;max-width: 0;overflow: hidden;text-align: left;background-color: #f0f8ff;}#sk-container-id-1 div.sk-toggleable__content pre {margin: 0.2em;color: black;border-radius: 0.25em;background-color: #f0f8ff;}#sk-container-id-1 input.sk-toggleable__control:checked~div.sk-toggleable__content {max-height: 200px;max-width: 100%;overflow: auto;}#sk-container-id-1 input.sk-toggleable__control:checked~label.sk-toggleable__label-arrow:before {content: \"▾\";}#sk-container-id-1 div.sk-estimator input.sk-toggleable__control:checked~label.sk-toggleable__label {background-color: #d4ebff;}#sk-container-id-1 div.sk-label input.sk-toggleable__control:checked~label.sk-toggleable__label {background-color: #d4ebff;}#sk-container-id-1 input.sk-hidden--visually {border: 0;clip: rect(1px 1px 1px 1px);clip: rect(1px, 1px, 1px, 1px);height: 1px;margin: -1px;overflow: hidden;padding: 0;position: absolute;width: 1px;}#sk-container-id-1 div.sk-estimator {font-family: monospace;background-color: #f0f8ff;border: 1px dotted black;border-radius: 0.25em;box-sizing: border-box;margin-bottom: 0.5em;}#sk-container-id-1 div.sk-estimator:hover {background-color: #d4ebff;}#sk-container-id-1 div.sk-parallel-item::after {content: \"\";width: 100%;border-bottom: 1px solid gray;flex-grow: 1;}#sk-container-id-1 div.sk-label:hover label.sk-toggleable__label {background-color: #d4ebff;}#sk-container-id-1 div.sk-serial::before {content: \"\";position: absolute;border-left: 1px solid gray;box-sizing: border-box;top: 0;bottom: 0;left: 50%;z-index: 0;}#sk-container-id-1 div.sk-serial {display: flex;flex-direction: column;align-items: center;background-color: white;padding-right: 0.2em;padding-left: 0.2em;position: relative;}#sk-container-id-1 div.sk-item {position: relative;z-index: 1;}#sk-container-id-1 div.sk-parallel {display: flex;align-items: stretch;justify-content: center;background-color: white;position: relative;}#sk-container-id-1 div.sk-item::before, #sk-container-id-1 div.sk-parallel-item::before {content: \"\";position: absolute;border-left: 1px solid gray;box-sizing: border-box;top: 0;bottom: 0;left: 50%;z-index: -1;}#sk-container-id-1 div.sk-parallel-item {display: flex;flex-direction: column;z-index: 1;position: relative;background-color: white;}#sk-container-id-1 div.sk-parallel-item:first-child::after {align-self: flex-end;width: 50%;}#sk-container-id-1 div.sk-parallel-item:last-child::after {align-self: flex-start;width: 50%;}#sk-container-id-1 div.sk-parallel-item:only-child::after {width: 0;}#sk-container-id-1 div.sk-dashed-wrapped {border: 1px dashed gray;margin: 0 0.4em 0.5em 0.4em;box-sizing: border-box;padding-bottom: 0.4em;background-color: white;}#sk-container-id-1 div.sk-label label {font-family: monospace;font-weight: bold;display: inline-block;line-height: 1.2em;}#sk-container-id-1 div.sk-label-container {text-align: center;}#sk-container-id-1 div.sk-container {/* jupyter's `normalize.less` sets `[hidden] { display: none; }` but bootstrap.min.css set `[hidden] { display: none !important; }` so we also need the `!important` here to be able to override the default hidden behavior on the sphinx rendered scikit-learn.org. See: https://github.com/scikit-learn/scikit-learn/issues/21755 */display: inline-block !important;position: relative;}#sk-container-id-1 div.sk-text-repr-fallback {display: none;}</style><div id=\"sk-container-id-1\" class=\"sk-top-container\"><div class=\"sk-text-repr-fallback\"><pre>LogisticRegression(C=1.0, class_weight=None, dual=False, fit_intercept=True,\n",
       "                   intercept_scaling=1, l1_ratio=None, max_iter=1000,\n",
       "                   multi_class=&#x27;auto&#x27;, n_jobs=None, penalty=&#x27;l2&#x27;,\n",
       "                   random_state=1229, solver=&#x27;lbfgs&#x27;, tol=0.0001, verbose=0,\n",
       "                   warm_start=False)</pre><b>In a Jupyter environment, please rerun this cell to show the HTML representation or trust the notebook. <br />On GitHub, the HTML representation is unable to render, please try loading this page with nbviewer.org.</b></div><div class=\"sk-container\" hidden><div class=\"sk-item\"><div class=\"sk-estimator sk-toggleable\"><input class=\"sk-toggleable__control sk-hidden--visually\" id=\"sk-estimator-id-1\" type=\"checkbox\" checked><label for=\"sk-estimator-id-1\" class=\"sk-toggleable__label sk-toggleable__label-arrow\">LogisticRegression</label><div class=\"sk-toggleable__content\"><pre>LogisticRegression(C=1.0, class_weight=None, dual=False, fit_intercept=True,\n",
       "                   intercept_scaling=1, l1_ratio=None, max_iter=1000,\n",
       "                   multi_class=&#x27;auto&#x27;, n_jobs=None, penalty=&#x27;l2&#x27;,\n",
       "                   random_state=1229, solver=&#x27;lbfgs&#x27;, tol=0.0001, verbose=0,\n",
       "                   warm_start=False)</pre></div></div></div></div></div>"
      ],
      "text/plain": [
       "LogisticRegression(C=1.0, class_weight=None, dual=False, fit_intercept=True,\n",
       "                   intercept_scaling=1, l1_ratio=None, max_iter=1000,\n",
       "                   multi_class='auto', n_jobs=None, penalty='l2',\n",
       "                   random_state=1229, solver='lbfgs', tol=0.0001, verbose=0,\n",
       "                   warm_start=False)"
      ]
     },
     "execution_count": 10,
     "metadata": {},
     "output_type": "execute_result"
    }
   ],
   "source": [
    "compare_models(sort='AUC')\n",
    "\n",
    "# Comparación de distintos modelos por AUC"
   ]
  },
  {
   "cell_type": "code",
   "execution_count": 46,
   "metadata": {},
   "outputs": [
    {
     "data": {
      "text/html": [],
      "text/plain": [
       "<IPython.core.display.HTML object>"
      ]
     },
     "metadata": {},
     "output_type": "display_data"
    },
    {
     "data": {
      "text/html": [
       "<style type=\"text/css\">\n",
       "#T_7b0de_row10_col0, #T_7b0de_row10_col1, #T_7b0de_row10_col2, #T_7b0de_row10_col3, #T_7b0de_row10_col4, #T_7b0de_row10_col5, #T_7b0de_row10_col6 {\n",
       "  background: yellow;\n",
       "}\n",
       "</style>\n",
       "<table id=\"T_7b0de_\">\n",
       "  <thead>\n",
       "    <tr>\n",
       "      <th class=\"blank level0\" >&nbsp;</th>\n",
       "      <th class=\"col_heading level0 col0\" >Accuracy</th>\n",
       "      <th class=\"col_heading level0 col1\" >AUC</th>\n",
       "      <th class=\"col_heading level0 col2\" >Recall</th>\n",
       "      <th class=\"col_heading level0 col3\" >Prec.</th>\n",
       "      <th class=\"col_heading level0 col4\" >F1</th>\n",
       "      <th class=\"col_heading level0 col5\" >Kappa</th>\n",
       "      <th class=\"col_heading level0 col6\" >MCC</th>\n",
       "    </tr>\n",
       "    <tr>\n",
       "      <th class=\"index_name level0\" >Fold</th>\n",
       "      <th class=\"blank col0\" >&nbsp;</th>\n",
       "      <th class=\"blank col1\" >&nbsp;</th>\n",
       "      <th class=\"blank col2\" >&nbsp;</th>\n",
       "      <th class=\"blank col3\" >&nbsp;</th>\n",
       "      <th class=\"blank col4\" >&nbsp;</th>\n",
       "      <th class=\"blank col5\" >&nbsp;</th>\n",
       "      <th class=\"blank col6\" >&nbsp;</th>\n",
       "    </tr>\n",
       "  </thead>\n",
       "  <tbody>\n",
       "    <tr>\n",
       "      <th id=\"T_7b0de_level0_row0\" class=\"row_heading level0 row0\" >0</th>\n",
       "      <td id=\"T_7b0de_row0_col0\" class=\"data row0 col0\" >0.9985</td>\n",
       "      <td id=\"T_7b0de_row0_col1\" class=\"data row0 col1\" >1.0000</td>\n",
       "      <td id=\"T_7b0de_row0_col2\" class=\"data row0 col2\" >0.9994</td>\n",
       "      <td id=\"T_7b0de_row0_col3\" class=\"data row0 col3\" >0.9942</td>\n",
       "      <td id=\"T_7b0de_row0_col4\" class=\"data row0 col4\" >0.9968</td>\n",
       "      <td id=\"T_7b0de_row0_col5\" class=\"data row0 col5\" >0.9958</td>\n",
       "      <td id=\"T_7b0de_row0_col6\" class=\"data row0 col6\" >0.9958</td>\n",
       "    </tr>\n",
       "    <tr>\n",
       "      <th id=\"T_7b0de_level0_row1\" class=\"row_heading level0 row1\" >1</th>\n",
       "      <td id=\"T_7b0de_row1_col0\" class=\"data row1 col0\" >0.9988</td>\n",
       "      <td id=\"T_7b0de_row1_col1\" class=\"data row1 col1\" >1.0000</td>\n",
       "      <td id=\"T_7b0de_row1_col2\" class=\"data row1 col2\" >0.9977</td>\n",
       "      <td id=\"T_7b0de_row1_col3\" class=\"data row1 col3\" >0.9971</td>\n",
       "      <td id=\"T_7b0de_row1_col4\" class=\"data row1 col4\" >0.9974</td>\n",
       "      <td id=\"T_7b0de_row1_col5\" class=\"data row1 col5\" >0.9966</td>\n",
       "      <td id=\"T_7b0de_row1_col6\" class=\"data row1 col6\" >0.9966</td>\n",
       "    </tr>\n",
       "    <tr>\n",
       "      <th id=\"T_7b0de_level0_row2\" class=\"row_heading level0 row2\" >2</th>\n",
       "      <td id=\"T_7b0de_row2_col0\" class=\"data row2 col0\" >0.9989</td>\n",
       "      <td id=\"T_7b0de_row2_col1\" class=\"data row2 col1\" >1.0000</td>\n",
       "      <td id=\"T_7b0de_row2_col2\" class=\"data row2 col2\" >0.9984</td>\n",
       "      <td id=\"T_7b0de_row2_col3\" class=\"data row2 col3\" >0.9971</td>\n",
       "      <td id=\"T_7b0de_row2_col4\" class=\"data row2 col4\" >0.9977</td>\n",
       "      <td id=\"T_7b0de_row2_col5\" class=\"data row2 col5\" >0.9970</td>\n",
       "      <td id=\"T_7b0de_row2_col6\" class=\"data row2 col6\" >0.9970</td>\n",
       "    </tr>\n",
       "    <tr>\n",
       "      <th id=\"T_7b0de_level0_row3\" class=\"row_heading level0 row3\" >3</th>\n",
       "      <td id=\"T_7b0de_row3_col0\" class=\"data row3 col0\" >0.9992</td>\n",
       "      <td id=\"T_7b0de_row3_col1\" class=\"data row3 col1\" >1.0000</td>\n",
       "      <td id=\"T_7b0de_row3_col2\" class=\"data row3 col2\" >1.0000</td>\n",
       "      <td id=\"T_7b0de_row3_col3\" class=\"data row3 col3\" >0.9968</td>\n",
       "      <td id=\"T_7b0de_row3_col4\" class=\"data row3 col4\" >0.9984</td>\n",
       "      <td id=\"T_7b0de_row3_col5\" class=\"data row3 col5\" >0.9979</td>\n",
       "      <td id=\"T_7b0de_row3_col6\" class=\"data row3 col6\" >0.9979</td>\n",
       "    </tr>\n",
       "    <tr>\n",
       "      <th id=\"T_7b0de_level0_row4\" class=\"row_heading level0 row4\" >4</th>\n",
       "      <td id=\"T_7b0de_row4_col0\" class=\"data row4 col0\" >0.9990</td>\n",
       "      <td id=\"T_7b0de_row4_col1\" class=\"data row4 col1\" >1.0000</td>\n",
       "      <td id=\"T_7b0de_row4_col2\" class=\"data row4 col2\" >0.9990</td>\n",
       "      <td id=\"T_7b0de_row4_col3\" class=\"data row4 col3\" >0.9968</td>\n",
       "      <td id=\"T_7b0de_row4_col4\" class=\"data row4 col4\" >0.9979</td>\n",
       "      <td id=\"T_7b0de_row4_col5\" class=\"data row4 col5\" >0.9972</td>\n",
       "      <td id=\"T_7b0de_row4_col6\" class=\"data row4 col6\" >0.9972</td>\n",
       "    </tr>\n",
       "    <tr>\n",
       "      <th id=\"T_7b0de_level0_row5\" class=\"row_heading level0 row5\" >5</th>\n",
       "      <td id=\"T_7b0de_row5_col0\" class=\"data row5 col0\" >0.9986</td>\n",
       "      <td id=\"T_7b0de_row5_col1\" class=\"data row5 col1\" >1.0000</td>\n",
       "      <td id=\"T_7b0de_row5_col2\" class=\"data row5 col2\" >0.9990</td>\n",
       "      <td id=\"T_7b0de_row5_col3\" class=\"data row5 col3\" >0.9952</td>\n",
       "      <td id=\"T_7b0de_row5_col4\" class=\"data row5 col4\" >0.9971</td>\n",
       "      <td id=\"T_7b0de_row5_col5\" class=\"data row5 col5\" >0.9962</td>\n",
       "      <td id=\"T_7b0de_row5_col6\" class=\"data row5 col6\" >0.9962</td>\n",
       "    </tr>\n",
       "    <tr>\n",
       "      <th id=\"T_7b0de_level0_row6\" class=\"row_heading level0 row6\" >6</th>\n",
       "      <td id=\"T_7b0de_row6_col0\" class=\"data row6 col0\" >0.9985</td>\n",
       "      <td id=\"T_7b0de_row6_col1\" class=\"data row6 col1\" >1.0000</td>\n",
       "      <td id=\"T_7b0de_row6_col2\" class=\"data row6 col2\" >0.9997</td>\n",
       "      <td id=\"T_7b0de_row6_col3\" class=\"data row6 col3\" >0.9939</td>\n",
       "      <td id=\"T_7b0de_row6_col4\" class=\"data row6 col4\" >0.9968</td>\n",
       "      <td id=\"T_7b0de_row6_col5\" class=\"data row6 col5\" >0.9958</td>\n",
       "      <td id=\"T_7b0de_row6_col6\" class=\"data row6 col6\" >0.9958</td>\n",
       "    </tr>\n",
       "    <tr>\n",
       "      <th id=\"T_7b0de_level0_row7\" class=\"row_heading level0 row7\" >7</th>\n",
       "      <td id=\"T_7b0de_row7_col0\" class=\"data row7 col0\" >0.9985</td>\n",
       "      <td id=\"T_7b0de_row7_col1\" class=\"data row7 col1\" >1.0000</td>\n",
       "      <td id=\"T_7b0de_row7_col2\" class=\"data row7 col2\" >0.9994</td>\n",
       "      <td id=\"T_7b0de_row7_col3\" class=\"data row7 col3\" >0.9942</td>\n",
       "      <td id=\"T_7b0de_row7_col4\" class=\"data row7 col4\" >0.9968</td>\n",
       "      <td id=\"T_7b0de_row7_col5\" class=\"data row7 col5\" >0.9958</td>\n",
       "      <td id=\"T_7b0de_row7_col6\" class=\"data row7 col6\" >0.9958</td>\n",
       "    </tr>\n",
       "    <tr>\n",
       "      <th id=\"T_7b0de_level0_row8\" class=\"row_heading level0 row8\" >8</th>\n",
       "      <td id=\"T_7b0de_row8_col0\" class=\"data row8 col0\" >0.9984</td>\n",
       "      <td id=\"T_7b0de_row8_col1\" class=\"data row8 col1\" >1.0000</td>\n",
       "      <td id=\"T_7b0de_row8_col2\" class=\"data row8 col2\" >0.9981</td>\n",
       "      <td id=\"T_7b0de_row8_col3\" class=\"data row8 col3\" >0.9952</td>\n",
       "      <td id=\"T_7b0de_row8_col4\" class=\"data row8 col4\" >0.9966</td>\n",
       "      <td id=\"T_7b0de_row8_col5\" class=\"data row8 col5\" >0.9956</td>\n",
       "      <td id=\"T_7b0de_row8_col6\" class=\"data row8 col6\" >0.9956</td>\n",
       "    </tr>\n",
       "    <tr>\n",
       "      <th id=\"T_7b0de_level0_row9\" class=\"row_heading level0 row9\" >9</th>\n",
       "      <td id=\"T_7b0de_row9_col0\" class=\"data row9 col0\" >0.9986</td>\n",
       "      <td id=\"T_7b0de_row9_col1\" class=\"data row9 col1\" >1.0000</td>\n",
       "      <td id=\"T_7b0de_row9_col2\" class=\"data row9 col2\" >1.0000</td>\n",
       "      <td id=\"T_7b0de_row9_col3\" class=\"data row9 col3\" >0.9942</td>\n",
       "      <td id=\"T_7b0de_row9_col4\" class=\"data row9 col4\" >0.9971</td>\n",
       "      <td id=\"T_7b0de_row9_col5\" class=\"data row9 col5\" >0.9962</td>\n",
       "      <td id=\"T_7b0de_row9_col6\" class=\"data row9 col6\" >0.9962</td>\n",
       "    </tr>\n",
       "    <tr>\n",
       "      <th id=\"T_7b0de_level0_row10\" class=\"row_heading level0 row10\" >Mean</th>\n",
       "      <td id=\"T_7b0de_row10_col0\" class=\"data row10 col0\" >0.9987</td>\n",
       "      <td id=\"T_7b0de_row10_col1\" class=\"data row10 col1\" >1.0000</td>\n",
       "      <td id=\"T_7b0de_row10_col2\" class=\"data row10 col2\" >0.9991</td>\n",
       "      <td id=\"T_7b0de_row10_col3\" class=\"data row10 col3\" >0.9954</td>\n",
       "      <td id=\"T_7b0de_row10_col4\" class=\"data row10 col4\" >0.9972</td>\n",
       "      <td id=\"T_7b0de_row10_col5\" class=\"data row10 col5\" >0.9964</td>\n",
       "      <td id=\"T_7b0de_row10_col6\" class=\"data row10 col6\" >0.9964</td>\n",
       "    </tr>\n",
       "    <tr>\n",
       "      <th id=\"T_7b0de_level0_row11\" class=\"row_heading level0 row11\" >Std</th>\n",
       "      <td id=\"T_7b0de_row11_col0\" class=\"data row11 col0\" >0.0003</td>\n",
       "      <td id=\"T_7b0de_row11_col1\" class=\"data row11 col1\" >0.0000</td>\n",
       "      <td id=\"T_7b0de_row11_col2\" class=\"data row11 col2\" >0.0007</td>\n",
       "      <td id=\"T_7b0de_row11_col3\" class=\"data row11 col3\" >0.0013</td>\n",
       "      <td id=\"T_7b0de_row11_col4\" class=\"data row11 col4\" >0.0006</td>\n",
       "      <td id=\"T_7b0de_row11_col5\" class=\"data row11 col5\" >0.0007</td>\n",
       "      <td id=\"T_7b0de_row11_col6\" class=\"data row11 col6\" >0.0007</td>\n",
       "    </tr>\n",
       "  </tbody>\n",
       "</table>\n"
      ],
      "text/plain": [
       "<pandas.io.formats.style.Styler at 0x7f91c5193f70>"
      ]
     },
     "metadata": {},
     "output_type": "display_data"
    },
    {
     "data": {
      "text/html": [],
      "text/plain": [
       "<IPython.core.display.HTML object>"
      ]
     },
     "metadata": {},
     "output_type": "display_data"
    }
   ],
   "source": [
    "lr = create_model('lr', fold =10)"
   ]
  },
  {
   "cell_type": "code",
   "execution_count": null,
   "metadata": {},
   "outputs": [],
   "source": [
    "plot_model(lr)"
   ]
  },
  {
   "cell_type": "code",
   "execution_count": 48,
   "metadata": {},
   "outputs": [
    {
     "data": {
      "text/html": [
       "<style type=\"text/css\">\n",
       "</style>\n",
       "<table id=\"T_9af37_\">\n",
       "  <thead>\n",
       "    <tr>\n",
       "      <th class=\"blank level0\" >&nbsp;</th>\n",
       "      <th class=\"col_heading level0 col0\" >Model</th>\n",
       "      <th class=\"col_heading level0 col1\" >Accuracy</th>\n",
       "      <th class=\"col_heading level0 col2\" >AUC</th>\n",
       "      <th class=\"col_heading level0 col3\" >Recall</th>\n",
       "      <th class=\"col_heading level0 col4\" >Prec.</th>\n",
       "      <th class=\"col_heading level0 col5\" >F1</th>\n",
       "      <th class=\"col_heading level0 col6\" >Kappa</th>\n",
       "      <th class=\"col_heading level0 col7\" >MCC</th>\n",
       "    </tr>\n",
       "  </thead>\n",
       "  <tbody>\n",
       "    <tr>\n",
       "      <th id=\"T_9af37_level0_row0\" class=\"row_heading level0 row0\" >0</th>\n",
       "      <td id=\"T_9af37_row0_col0\" class=\"data row0 col0\" >Logistic Regression</td>\n",
       "      <td id=\"T_9af37_row0_col1\" class=\"data row0 col1\" >0.9983</td>\n",
       "      <td id=\"T_9af37_row0_col2\" class=\"data row0 col2\" >1.0000</td>\n",
       "      <td id=\"T_9af37_row0_col3\" class=\"data row0 col3\" >0.9990</td>\n",
       "      <td id=\"T_9af37_row0_col4\" class=\"data row0 col4\" >0.9936</td>\n",
       "      <td id=\"T_9af37_row0_col5\" class=\"data row0 col5\" >0.9963</td>\n",
       "      <td id=\"T_9af37_row0_col6\" class=\"data row0 col6\" >0.9952</td>\n",
       "      <td id=\"T_9af37_row0_col7\" class=\"data row0 col7\" >0.9952</td>\n",
       "    </tr>\n",
       "  </tbody>\n",
       "</table>\n"
      ],
      "text/plain": [
       "<pandas.io.formats.style.Styler at 0x7f91d4864970>"
      ]
     },
     "metadata": {},
     "output_type": "display_data"
    },
    {
     "data": {
      "text/html": [
       "<div>\n",
       "<style scoped>\n",
       "    .dataframe tbody tr th:only-of-type {\n",
       "        vertical-align: middle;\n",
       "    }\n",
       "\n",
       "    .dataframe tbody tr th {\n",
       "        vertical-align: top;\n",
       "    }\n",
       "\n",
       "    .dataframe thead th {\n",
       "        text-align: right;\n",
       "    }\n",
       "</style>\n",
       "<table border=\"1\" class=\"dataframe\">\n",
       "  <thead>\n",
       "    <tr style=\"text-align: right;\">\n",
       "      <th></th>\n",
       "      <th>Unnamed: 0</th>\n",
       "      <th>lat</th>\n",
       "      <th>lon</th>\n",
       "      <th>l2</th>\n",
       "      <th>l3</th>\n",
       "      <th>rooms</th>\n",
       "      <th>bedrooms</th>\n",
       "      <th>bathrooms</th>\n",
       "      <th>surface_total</th>\n",
       "      <th>surface_covered</th>\n",
       "      <th>price</th>\n",
       "      <th>currency</th>\n",
       "      <th>title</th>\n",
       "      <th>description</th>\n",
       "      <th>property_type</th>\n",
       "      <th>geometry</th>\n",
       "      <th>avg</th>\n",
       "      <th>prediction_label</th>\n",
       "      <th>prediction_score</th>\n",
       "    </tr>\n",
       "  </thead>\n",
       "  <tbody>\n",
       "    <tr>\n",
       "      <th>131370</th>\n",
       "      <td>0.152028</td>\n",
       "      <td>0.487750</td>\n",
       "      <td>-0.568390</td>\n",
       "      <td>0.033997</td>\n",
       "      <td>-0.069452</td>\n",
       "      <td>0.071006</td>\n",
       "      <td>0.065907</td>\n",
       "      <td>0.521603</td>\n",
       "      <td>0.116905</td>\n",
       "      <td>0.186602</td>\n",
       "      <td>0.157831</td>\n",
       "      <td>0.010681</td>\n",
       "      <td>-1.114152</td>\n",
       "      <td>0.488684</td>\n",
       "      <td>-0.943558</td>\n",
       "      <td>1.725348</td>\n",
       "      <td>0</td>\n",
       "      <td>0</td>\n",
       "      <td>1.0000</td>\n",
       "    </tr>\n",
       "    <tr>\n",
       "      <th>131371</th>\n",
       "      <td>0.436827</td>\n",
       "      <td>0.176285</td>\n",
       "      <td>-0.003373</td>\n",
       "      <td>0.033997</td>\n",
       "      <td>-0.069452</td>\n",
       "      <td>0.071006</td>\n",
       "      <td>0.065907</td>\n",
       "      <td>-0.432759</td>\n",
       "      <td>0.116905</td>\n",
       "      <td>0.186602</td>\n",
       "      <td>0.157831</td>\n",
       "      <td>0.010681</td>\n",
       "      <td>-0.051471</td>\n",
       "      <td>-1.107541</td>\n",
       "      <td>-0.943558</td>\n",
       "      <td>0.250579</td>\n",
       "      <td>0</td>\n",
       "      <td>0</td>\n",
       "      <td>1.0000</td>\n",
       "    </tr>\n",
       "    <tr>\n",
       "      <th>131372</th>\n",
       "      <td>0.835826</td>\n",
       "      <td>0.176285</td>\n",
       "      <td>-0.003373</td>\n",
       "      <td>0.033997</td>\n",
       "      <td>-0.069452</td>\n",
       "      <td>0.071006</td>\n",
       "      <td>0.065907</td>\n",
       "      <td>-0.432759</td>\n",
       "      <td>0.116905</td>\n",
       "      <td>0.186602</td>\n",
       "      <td>-0.910719</td>\n",
       "      <td>0.010681</td>\n",
       "      <td>0.115119</td>\n",
       "      <td>-1.107541</td>\n",
       "      <td>-0.943558</td>\n",
       "      <td>0.250579</td>\n",
       "      <td>0</td>\n",
       "      <td>0</td>\n",
       "      <td>1.0000</td>\n",
       "    </tr>\n",
       "    <tr>\n",
       "      <th>131373</th>\n",
       "      <td>0.845397</td>\n",
       "      <td>-0.320777</td>\n",
       "      <td>1.012489</td>\n",
       "      <td>1.577600</td>\n",
       "      <td>1.901673</td>\n",
       "      <td>-0.504561</td>\n",
       "      <td>-0.279021</td>\n",
       "      <td>0.223885</td>\n",
       "      <td>0.116905</td>\n",
       "      <td>0.186602</td>\n",
       "      <td>0.509224</td>\n",
       "      <td>0.010681</td>\n",
       "      <td>0.516265</td>\n",
       "      <td>0.488684</td>\n",
       "      <td>0.688658</td>\n",
       "      <td>0.431185</td>\n",
       "      <td>0</td>\n",
       "      <td>0</td>\n",
       "      <td>0.9613</td>\n",
       "    </tr>\n",
       "    <tr>\n",
       "      <th>131374</th>\n",
       "      <td>0.151334</td>\n",
       "      <td>0.176285</td>\n",
       "      <td>-0.003373</td>\n",
       "      <td>0.033997</td>\n",
       "      <td>-0.069452</td>\n",
       "      <td>0.071006</td>\n",
       "      <td>0.065907</td>\n",
       "      <td>0.521603</td>\n",
       "      <td>0.116905</td>\n",
       "      <td>0.186602</td>\n",
       "      <td>0.233191</td>\n",
       "      <td>0.010681</td>\n",
       "      <td>-0.677572</td>\n",
       "      <td>-1.107541</td>\n",
       "      <td>-0.943558</td>\n",
       "      <td>0.250579</td>\n",
       "      <td>0</td>\n",
       "      <td>0</td>\n",
       "      <td>1.0000</td>\n",
       "    </tr>\n",
       "    <tr>\n",
       "      <th>...</th>\n",
       "      <td>...</td>\n",
       "      <td>...</td>\n",
       "      <td>...</td>\n",
       "      <td>...</td>\n",
       "      <td>...</td>\n",
       "      <td>...</td>\n",
       "      <td>...</td>\n",
       "      <td>...</td>\n",
       "      <td>...</td>\n",
       "      <td>...</td>\n",
       "      <td>...</td>\n",
       "      <td>...</td>\n",
       "      <td>...</td>\n",
       "      <td>...</td>\n",
       "      <td>...</td>\n",
       "      <td>...</td>\n",
       "      <td>...</td>\n",
       "      <td>...</td>\n",
       "      <td>...</td>\n",
       "    </tr>\n",
       "    <tr>\n",
       "      <th>187667</th>\n",
       "      <td>-0.118803</td>\n",
       "      <td>2.198372</td>\n",
       "      <td>0.160318</td>\n",
       "      <td>-0.331094</td>\n",
       "      <td>-0.218871</td>\n",
       "      <td>0.071006</td>\n",
       "      <td>0.065907</td>\n",
       "      <td>0.223885</td>\n",
       "      <td>0.116905</td>\n",
       "      <td>0.186602</td>\n",
       "      <td>1.526589</td>\n",
       "      <td>0.010681</td>\n",
       "      <td>1.849190</td>\n",
       "      <td>1.855473</td>\n",
       "      <td>1.262379</td>\n",
       "      <td>1.964016</td>\n",
       "      <td>1</td>\n",
       "      <td>1</td>\n",
       "      <td>1.0000</td>\n",
       "    </tr>\n",
       "    <tr>\n",
       "      <th>187668</th>\n",
       "      <td>0.101711</td>\n",
       "      <td>0.176285</td>\n",
       "      <td>-0.003373</td>\n",
       "      <td>0.033997</td>\n",
       "      <td>-0.069452</td>\n",
       "      <td>0.071006</td>\n",
       "      <td>0.065907</td>\n",
       "      <td>-0.432759</td>\n",
       "      <td>0.116905</td>\n",
       "      <td>0.186602</td>\n",
       "      <td>-0.041974</td>\n",
       "      <td>0.010681</td>\n",
       "      <td>0.728687</td>\n",
       "      <td>-1.107541</td>\n",
       "      <td>0.688658</td>\n",
       "      <td>0.250579</td>\n",
       "      <td>0</td>\n",
       "      <td>0</td>\n",
       "      <td>1.0000</td>\n",
       "    </tr>\n",
       "    <tr>\n",
       "      <th>187669</th>\n",
       "      <td>-1.603379</td>\n",
       "      <td>-0.350029</td>\n",
       "      <td>-0.674583</td>\n",
       "      <td>0.449151</td>\n",
       "      <td>0.544840</td>\n",
       "      <td>0.071006</td>\n",
       "      <td>0.065907</td>\n",
       "      <td>0.223885</td>\n",
       "      <td>0.116905</td>\n",
       "      <td>0.186602</td>\n",
       "      <td>-0.369782</td>\n",
       "      <td>0.010681</td>\n",
       "      <td>0.516265</td>\n",
       "      <td>0.488684</td>\n",
       "      <td>0.688658</td>\n",
       "      <td>0.431185</td>\n",
       "      <td>0</td>\n",
       "      <td>0</td>\n",
       "      <td>1.0000</td>\n",
       "    </tr>\n",
       "    <tr>\n",
       "      <th>187670</th>\n",
       "      <td>1.353376</td>\n",
       "      <td>0.176285</td>\n",
       "      <td>-0.003373</td>\n",
       "      <td>-0.331094</td>\n",
       "      <td>-0.218871</td>\n",
       "      <td>0.071006</td>\n",
       "      <td>0.065907</td>\n",
       "      <td>0.521603</td>\n",
       "      <td>0.116905</td>\n",
       "      <td>0.186602</td>\n",
       "      <td>0.188618</td>\n",
       "      <td>0.010681</td>\n",
       "      <td>0.516265</td>\n",
       "      <td>-1.107541</td>\n",
       "      <td>0.688658</td>\n",
       "      <td>0.250579</td>\n",
       "      <td>0</td>\n",
       "      <td>0</td>\n",
       "      <td>1.0000</td>\n",
       "    </tr>\n",
       "    <tr>\n",
       "      <th>187671</th>\n",
       "      <td>-1.358753</td>\n",
       "      <td>-0.432153</td>\n",
       "      <td>1.041504</td>\n",
       "      <td>1.577600</td>\n",
       "      <td>1.308313</td>\n",
       "      <td>-2.974088</td>\n",
       "      <td>-1.891729</td>\n",
       "      <td>0.223885</td>\n",
       "      <td>0.116905</td>\n",
       "      <td>0.186602</td>\n",
       "      <td>0.348013</td>\n",
       "      <td>0.010681</td>\n",
       "      <td>0.516265</td>\n",
       "      <td>0.488684</td>\n",
       "      <td>-0.943558</td>\n",
       "      <td>0.431185</td>\n",
       "      <td>0</td>\n",
       "      <td>0</td>\n",
       "      <td>0.9998</td>\n",
       "    </tr>\n",
       "  </tbody>\n",
       "</table>\n",
       "<p>56302 rows × 19 columns</p>\n",
       "</div>"
      ],
      "text/plain": [
       "        Unnamed: 0       lat       lon        l2        l3     rooms  \\\n",
       "131370    0.152028  0.487750 -0.568390  0.033997 -0.069452  0.071006   \n",
       "131371    0.436827  0.176285 -0.003373  0.033997 -0.069452  0.071006   \n",
       "131372    0.835826  0.176285 -0.003373  0.033997 -0.069452  0.071006   \n",
       "131373    0.845397 -0.320777  1.012489  1.577600  1.901673 -0.504561   \n",
       "131374    0.151334  0.176285 -0.003373  0.033997 -0.069452  0.071006   \n",
       "...            ...       ...       ...       ...       ...       ...   \n",
       "187667   -0.118803  2.198372  0.160318 -0.331094 -0.218871  0.071006   \n",
       "187668    0.101711  0.176285 -0.003373  0.033997 -0.069452  0.071006   \n",
       "187669   -1.603379 -0.350029 -0.674583  0.449151  0.544840  0.071006   \n",
       "187670    1.353376  0.176285 -0.003373 -0.331094 -0.218871  0.071006   \n",
       "187671   -1.358753 -0.432153  1.041504  1.577600  1.308313 -2.974088   \n",
       "\n",
       "        bedrooms  bathrooms  surface_total  surface_covered     price  \\\n",
       "131370  0.065907   0.521603       0.116905         0.186602  0.157831   \n",
       "131371  0.065907  -0.432759       0.116905         0.186602  0.157831   \n",
       "131372  0.065907  -0.432759       0.116905         0.186602 -0.910719   \n",
       "131373 -0.279021   0.223885       0.116905         0.186602  0.509224   \n",
       "131374  0.065907   0.521603       0.116905         0.186602  0.233191   \n",
       "...          ...        ...            ...              ...       ...   \n",
       "187667  0.065907   0.223885       0.116905         0.186602  1.526589   \n",
       "187668  0.065907  -0.432759       0.116905         0.186602 -0.041974   \n",
       "187669  0.065907   0.223885       0.116905         0.186602 -0.369782   \n",
       "187670  0.065907   0.521603       0.116905         0.186602  0.188618   \n",
       "187671 -1.891729   0.223885       0.116905         0.186602  0.348013   \n",
       "\n",
       "        currency     title  description  property_type  geometry  avg  \\\n",
       "131370  0.010681 -1.114152     0.488684      -0.943558  1.725348    0   \n",
       "131371  0.010681 -0.051471    -1.107541      -0.943558  0.250579    0   \n",
       "131372  0.010681  0.115119    -1.107541      -0.943558  0.250579    0   \n",
       "131373  0.010681  0.516265     0.488684       0.688658  0.431185    0   \n",
       "131374  0.010681 -0.677572    -1.107541      -0.943558  0.250579    0   \n",
       "...          ...       ...          ...            ...       ...  ...   \n",
       "187667  0.010681  1.849190     1.855473       1.262379  1.964016    1   \n",
       "187668  0.010681  0.728687    -1.107541       0.688658  0.250579    0   \n",
       "187669  0.010681  0.516265     0.488684       0.688658  0.431185    0   \n",
       "187670  0.010681  0.516265    -1.107541       0.688658  0.250579    0   \n",
       "187671  0.010681  0.516265     0.488684      -0.943558  0.431185    0   \n",
       "\n",
       "        prediction_label  prediction_score  \n",
       "131370                 0            1.0000  \n",
       "131371                 0            1.0000  \n",
       "131372                 0            1.0000  \n",
       "131373                 0            0.9613  \n",
       "131374                 0            1.0000  \n",
       "...                  ...               ...  \n",
       "187667                 1            1.0000  \n",
       "187668                 0            1.0000  \n",
       "187669                 0            1.0000  \n",
       "187670                 0            1.0000  \n",
       "187671                 0            0.9998  \n",
       "\n",
       "[56302 rows x 19 columns]"
      ]
     },
     "execution_count": 48,
     "metadata": {},
     "output_type": "execute_result"
    }
   ],
   "source": [
    "predict_model(lr)\n",
    "\n",
    "# predicciones"
   ]
  },
  {
   "cell_type": "code",
   "execution_count": 50,
   "metadata": {},
   "outputs": [],
   "source": [
    "modelo_final = finalize_model(lr)\n",
    "\n",
    "# Modelo final"
   ]
  },
  {
   "cell_type": "code",
   "execution_count": 51,
   "metadata": {},
   "outputs": [
    {
     "data": {
      "text/html": [
       "<style type=\"text/css\">\n",
       "</style>\n",
       "<table id=\"T_0e9c2_\">\n",
       "  <thead>\n",
       "    <tr>\n",
       "      <th class=\"blank level0\" >&nbsp;</th>\n",
       "      <th class=\"col_heading level0 col0\" >Model</th>\n",
       "      <th class=\"col_heading level0 col1\" >Accuracy</th>\n",
       "      <th class=\"col_heading level0 col2\" >AUC</th>\n",
       "      <th class=\"col_heading level0 col3\" >Recall</th>\n",
       "      <th class=\"col_heading level0 col4\" >Prec.</th>\n",
       "      <th class=\"col_heading level0 col5\" >F1</th>\n",
       "      <th class=\"col_heading level0 col6\" >Kappa</th>\n",
       "      <th class=\"col_heading level0 col7\" >MCC</th>\n",
       "    </tr>\n",
       "  </thead>\n",
       "  <tbody>\n",
       "    <tr>\n",
       "      <th id=\"T_0e9c2_level0_row0\" class=\"row_heading level0 row0\" >0</th>\n",
       "      <td id=\"T_0e9c2_row0_col0\" class=\"data row0 col0\" >Logistic Regression</td>\n",
       "      <td id=\"T_0e9c2_row0_col1\" class=\"data row0 col1\" >0.9983</td>\n",
       "      <td id=\"T_0e9c2_row0_col2\" class=\"data row0 col2\" >0.9995</td>\n",
       "      <td id=\"T_0e9c2_row0_col3\" class=\"data row0 col3\" >0.9971</td>\n",
       "      <td id=\"T_0e9c2_row0_col4\" class=\"data row0 col4\" >0.9956</td>\n",
       "      <td id=\"T_0e9c2_row0_col5\" class=\"data row0 col5\" >0.9963</td>\n",
       "      <td id=\"T_0e9c2_row0_col6\" class=\"data row0 col6\" >0.9952</td>\n",
       "      <td id=\"T_0e9c2_row0_col7\" class=\"data row0 col7\" >0.9952</td>\n",
       "    </tr>\n",
       "  </tbody>\n",
       "</table>\n"
      ],
      "text/plain": [
       "<pandas.io.formats.style.Styler at 0x7f91dbac0ee0>"
      ]
     },
     "metadata": {},
     "output_type": "display_data"
    },
    {
     "data": {
      "text/html": [
       "<div>\n",
       "<style scoped>\n",
       "    .dataframe tbody tr th:only-of-type {\n",
       "        vertical-align: middle;\n",
       "    }\n",
       "\n",
       "    .dataframe tbody tr th {\n",
       "        vertical-align: top;\n",
       "    }\n",
       "\n",
       "    .dataframe thead th {\n",
       "        text-align: right;\n",
       "    }\n",
       "</style>\n",
       "<table border=\"1\" class=\"dataframe\">\n",
       "  <thead>\n",
       "    <tr style=\"text-align: right;\">\n",
       "      <th></th>\n",
       "      <th>Unnamed: 0</th>\n",
       "      <th>lat</th>\n",
       "      <th>lon</th>\n",
       "      <th>l2</th>\n",
       "      <th>l3</th>\n",
       "      <th>rooms</th>\n",
       "      <th>bedrooms</th>\n",
       "      <th>bathrooms</th>\n",
       "      <th>surface_total</th>\n",
       "      <th>surface_covered</th>\n",
       "      <th>price</th>\n",
       "      <th>currency</th>\n",
       "      <th>title</th>\n",
       "      <th>description</th>\n",
       "      <th>property_type</th>\n",
       "      <th>geometry</th>\n",
       "      <th>avg</th>\n",
       "      <th>prediction_label</th>\n",
       "      <th>prediction_score</th>\n",
       "    </tr>\n",
       "  </thead>\n",
       "  <tbody>\n",
       "    <tr>\n",
       "      <th>0</th>\n",
       "      <td>0.249184</td>\n",
       "      <td>0.041166</td>\n",
       "      <td>-0.000175</td>\n",
       "      <td>-1.731568</td>\n",
       "      <td>-1.467327</td>\n",
       "      <td>0.071423</td>\n",
       "      <td>0.063945</td>\n",
       "      <td>-1.968968</td>\n",
       "      <td>0.117301</td>\n",
       "      <td>0.185293</td>\n",
       "      <td>1.384440</td>\n",
       "      <td>0.009722</td>\n",
       "      <td>1.770451</td>\n",
       "      <td>1.771211</td>\n",
       "      <td>1.639800</td>\n",
       "      <td>0.278714</td>\n",
       "      <td>1</td>\n",
       "      <td>1</td>\n",
       "      <td>1.0</td>\n",
       "    </tr>\n",
       "    <tr>\n",
       "      <th>1</th>\n",
       "      <td>-0.109460</td>\n",
       "      <td>2.637109</td>\n",
       "      <td>0.242282</td>\n",
       "      <td>-0.289778</td>\n",
       "      <td>-0.189044</td>\n",
       "      <td>0.071423</td>\n",
       "      <td>0.063945</td>\n",
       "      <td>-0.429423</td>\n",
       "      <td>0.117301</td>\n",
       "      <td>0.185293</td>\n",
       "      <td>-0.410550</td>\n",
       "      <td>0.009722</td>\n",
       "      <td>-1.007937</td>\n",
       "      <td>-0.996122</td>\n",
       "      <td>-0.943979</td>\n",
       "      <td>-1.207813</td>\n",
       "      <td>0</td>\n",
       "      <td>0</td>\n",
       "      <td>1.0</td>\n",
       "    </tr>\n",
       "    <tr>\n",
       "      <th>2</th>\n",
       "      <td>0.411146</td>\n",
       "      <td>-0.272453</td>\n",
       "      <td>-0.512855</td>\n",
       "      <td>-1.684870</td>\n",
       "      <td>-1.373393</td>\n",
       "      <td>0.071423</td>\n",
       "      <td>0.063945</td>\n",
       "      <td>-0.429423</td>\n",
       "      <td>0.117301</td>\n",
       "      <td>0.185293</td>\n",
       "      <td>-0.660902</td>\n",
       "      <td>0.009722</td>\n",
       "      <td>-1.007937</td>\n",
       "      <td>-0.996122</td>\n",
       "      <td>-0.943979</td>\n",
       "      <td>-1.207813</td>\n",
       "      <td>0</td>\n",
       "      <td>0</td>\n",
       "      <td>1.0</td>\n",
       "    </tr>\n",
       "    <tr>\n",
       "      <th>3</th>\n",
       "      <td>-1.604631</td>\n",
       "      <td>-1.213819</td>\n",
       "      <td>-1.409514</td>\n",
       "      <td>-0.090614</td>\n",
       "      <td>0.026680</td>\n",
       "      <td>0.071423</td>\n",
       "      <td>0.063945</td>\n",
       "      <td>-0.429423</td>\n",
       "      <td>0.117301</td>\n",
       "      <td>0.185293</td>\n",
       "      <td>-1.241866</td>\n",
       "      <td>0.009722</td>\n",
       "      <td>0.584105</td>\n",
       "      <td>0.559555</td>\n",
       "      <td>0.686999</td>\n",
       "      <td>-1.207813</td>\n",
       "      <td>0</td>\n",
       "      <td>0</td>\n",
       "      <td>1.0</td>\n",
       "    </tr>\n",
       "    <tr>\n",
       "      <th>4</th>\n",
       "      <td>0.646452</td>\n",
       "      <td>0.753406</td>\n",
       "      <td>2.042903</td>\n",
       "      <td>-1.731568</td>\n",
       "      <td>-0.010820</td>\n",
       "      <td>1.339483</td>\n",
       "      <td>1.050530</td>\n",
       "      <td>0.223354</td>\n",
       "      <td>0.117301</td>\n",
       "      <td>0.185293</td>\n",
       "      <td>1.924017</td>\n",
       "      <td>0.009722</td>\n",
       "      <td>0.584105</td>\n",
       "      <td>0.559555</td>\n",
       "      <td>0.686879</td>\n",
       "      <td>0.460479</td>\n",
       "      <td>1</td>\n",
       "      <td>1</td>\n",
       "      <td>1.0</td>\n",
       "    </tr>\n",
       "    <tr>\n",
       "      <th>...</th>\n",
       "      <td>...</td>\n",
       "      <td>...</td>\n",
       "      <td>...</td>\n",
       "      <td>...</td>\n",
       "      <td>...</td>\n",
       "      <td>...</td>\n",
       "      <td>...</td>\n",
       "      <td>...</td>\n",
       "      <td>...</td>\n",
       "      <td>...</td>\n",
       "      <td>...</td>\n",
       "      <td>...</td>\n",
       "      <td>...</td>\n",
       "      <td>...</td>\n",
       "      <td>...</td>\n",
       "      <td>...</td>\n",
       "      <td>...</td>\n",
       "      <td>...</td>\n",
       "      <td>...</td>\n",
       "    </tr>\n",
       "    <tr>\n",
       "      <th>39505</th>\n",
       "      <td>-1.215383</td>\n",
       "      <td>-0.337411</td>\n",
       "      <td>-0.588546</td>\n",
       "      <td>-1.684870</td>\n",
       "      <td>0.176238</td>\n",
       "      <td>0.071423</td>\n",
       "      <td>0.063945</td>\n",
       "      <td>0.523832</td>\n",
       "      <td>0.117301</td>\n",
       "      <td>0.185293</td>\n",
       "      <td>-1.106934</td>\n",
       "      <td>0.009722</td>\n",
       "      <td>-1.007937</td>\n",
       "      <td>0.559555</td>\n",
       "      <td>-0.943979</td>\n",
       "      <td>0.460479</td>\n",
       "      <td>0</td>\n",
       "      <td>0</td>\n",
       "      <td>1.0</td>\n",
       "    </tr>\n",
       "    <tr>\n",
       "      <th>39506</th>\n",
       "      <td>-0.483110</td>\n",
       "      <td>2.413866</td>\n",
       "      <td>-0.435783</td>\n",
       "      <td>0.890525</td>\n",
       "      <td>0.855219</td>\n",
       "      <td>0.071423</td>\n",
       "      <td>0.063945</td>\n",
       "      <td>-0.429423</td>\n",
       "      <td>0.117301</td>\n",
       "      <td>0.185293</td>\n",
       "      <td>-0.135989</td>\n",
       "      <td>0.009722</td>\n",
       "      <td>-1.007937</td>\n",
       "      <td>-0.996122</td>\n",
       "      <td>-0.943979</td>\n",
       "      <td>0.213662</td>\n",
       "      <td>0</td>\n",
       "      <td>0</td>\n",
       "      <td>1.0</td>\n",
       "    </tr>\n",
       "    <tr>\n",
       "      <th>39507</th>\n",
       "      <td>-0.946344</td>\n",
       "      <td>0.041166</td>\n",
       "      <td>-0.000175</td>\n",
       "      <td>-1.729478</td>\n",
       "      <td>-1.464196</td>\n",
       "      <td>0.071423</td>\n",
       "      <td>0.063945</td>\n",
       "      <td>-0.429423</td>\n",
       "      <td>0.117301</td>\n",
       "      <td>0.185293</td>\n",
       "      <td>-0.748859</td>\n",
       "      <td>0.009722</td>\n",
       "      <td>-1.007937</td>\n",
       "      <td>-0.996122</td>\n",
       "      <td>-0.943979</td>\n",
       "      <td>0.278824</td>\n",
       "      <td>0</td>\n",
       "      <td>0</td>\n",
       "      <td>1.0</td>\n",
       "    </tr>\n",
       "    <tr>\n",
       "      <th>39508</th>\n",
       "      <td>-0.060656</td>\n",
       "      <td>-0.521485</td>\n",
       "      <td>0.918696</td>\n",
       "      <td>1.576707</td>\n",
       "      <td>1.310963</td>\n",
       "      <td>-0.523657</td>\n",
       "      <td>-0.278573</td>\n",
       "      <td>0.223354</td>\n",
       "      <td>0.117301</td>\n",
       "      <td>0.185293</td>\n",
       "      <td>-1.158946</td>\n",
       "      <td>0.009722</td>\n",
       "      <td>-1.007937</td>\n",
       "      <td>0.559555</td>\n",
       "      <td>-0.943979</td>\n",
       "      <td>-1.207813</td>\n",
       "      <td>0</td>\n",
       "      <td>0</td>\n",
       "      <td>1.0</td>\n",
       "    </tr>\n",
       "    <tr>\n",
       "      <th>39509</th>\n",
       "      <td>0.268881</td>\n",
       "      <td>-0.507183</td>\n",
       "      <td>0.934243</td>\n",
       "      <td>1.576707</td>\n",
       "      <td>1.310963</td>\n",
       "      <td>0.071423</td>\n",
       "      <td>0.063945</td>\n",
       "      <td>-0.429423</td>\n",
       "      <td>0.117301</td>\n",
       "      <td>0.185293</td>\n",
       "      <td>-0.245174</td>\n",
       "      <td>0.009722</td>\n",
       "      <td>-1.007937</td>\n",
       "      <td>-0.996122</td>\n",
       "      <td>0.686999</td>\n",
       "      <td>-1.207813</td>\n",
       "      <td>0</td>\n",
       "      <td>0</td>\n",
       "      <td>1.0</td>\n",
       "    </tr>\n",
       "  </tbody>\n",
       "</table>\n",
       "<p>39510 rows × 19 columns</p>\n",
       "</div>"
      ],
      "text/plain": [
       "       Unnamed: 0       lat       lon        l2        l3     rooms  bedrooms  \\\n",
       "0        0.249184  0.041166 -0.000175 -1.731568 -1.467327  0.071423  0.063945   \n",
       "1       -0.109460  2.637109  0.242282 -0.289778 -0.189044  0.071423  0.063945   \n",
       "2        0.411146 -0.272453 -0.512855 -1.684870 -1.373393  0.071423  0.063945   \n",
       "3       -1.604631 -1.213819 -1.409514 -0.090614  0.026680  0.071423  0.063945   \n",
       "4        0.646452  0.753406  2.042903 -1.731568 -0.010820  1.339483  1.050530   \n",
       "...           ...       ...       ...       ...       ...       ...       ...   \n",
       "39505   -1.215383 -0.337411 -0.588546 -1.684870  0.176238  0.071423  0.063945   \n",
       "39506   -0.483110  2.413866 -0.435783  0.890525  0.855219  0.071423  0.063945   \n",
       "39507   -0.946344  0.041166 -0.000175 -1.729478 -1.464196  0.071423  0.063945   \n",
       "39508   -0.060656 -0.521485  0.918696  1.576707  1.310963 -0.523657 -0.278573   \n",
       "39509    0.268881 -0.507183  0.934243  1.576707  1.310963  0.071423  0.063945   \n",
       "\n",
       "       bathrooms  surface_total  surface_covered     price  currency  \\\n",
       "0      -1.968968       0.117301         0.185293  1.384440  0.009722   \n",
       "1      -0.429423       0.117301         0.185293 -0.410550  0.009722   \n",
       "2      -0.429423       0.117301         0.185293 -0.660902  0.009722   \n",
       "3      -0.429423       0.117301         0.185293 -1.241866  0.009722   \n",
       "4       0.223354       0.117301         0.185293  1.924017  0.009722   \n",
       "...          ...            ...              ...       ...       ...   \n",
       "39505   0.523832       0.117301         0.185293 -1.106934  0.009722   \n",
       "39506  -0.429423       0.117301         0.185293 -0.135989  0.009722   \n",
       "39507  -0.429423       0.117301         0.185293 -0.748859  0.009722   \n",
       "39508   0.223354       0.117301         0.185293 -1.158946  0.009722   \n",
       "39509  -0.429423       0.117301         0.185293 -0.245174  0.009722   \n",
       "\n",
       "          title  description  property_type  geometry  avg  prediction_label  \\\n",
       "0      1.770451     1.771211       1.639800  0.278714    1                 1   \n",
       "1     -1.007937    -0.996122      -0.943979 -1.207813    0                 0   \n",
       "2     -1.007937    -0.996122      -0.943979 -1.207813    0                 0   \n",
       "3      0.584105     0.559555       0.686999 -1.207813    0                 0   \n",
       "4      0.584105     0.559555       0.686879  0.460479    1                 1   \n",
       "...         ...          ...            ...       ...  ...               ...   \n",
       "39505 -1.007937     0.559555      -0.943979  0.460479    0                 0   \n",
       "39506 -1.007937    -0.996122      -0.943979  0.213662    0                 0   \n",
       "39507 -1.007937    -0.996122      -0.943979  0.278824    0                 0   \n",
       "39508 -1.007937     0.559555      -0.943979 -1.207813    0                 0   \n",
       "39509 -1.007937    -0.996122       0.686999 -1.207813    0                 0   \n",
       "\n",
       "       prediction_score  \n",
       "0                   1.0  \n",
       "1                   1.0  \n",
       "2                   1.0  \n",
       "3                   1.0  \n",
       "4                   1.0  \n",
       "...                 ...  \n",
       "39505               1.0  \n",
       "39506               1.0  \n",
       "39507               1.0  \n",
       "39508               1.0  \n",
       "39509               1.0  \n",
       "\n",
       "[39510 rows x 19 columns]"
      ]
     },
     "execution_count": 51,
     "metadata": {},
     "output_type": "execute_result"
    }
   ],
   "source": [
    "testeo_pre = predict_model(modelo_final, data=df_train_test)\n",
    "testeo_pre\n",
    "\n",
    "# Testeo de df_train"
   ]
  },
  {
   "cell_type": "code",
   "execution_count": 52,
   "metadata": {},
   "outputs": [],
   "source": [
    "df_test = df_train.drop(df_train_ent.index).reset_index(drop=True)"
   ]
  },
  {
   "cell_type": "code",
   "execution_count": 53,
   "metadata": {},
   "outputs": [
    {
     "data": {
      "text/html": [
       "<style type=\"text/css\">\n",
       "</style>\n",
       "<table id=\"T_f5db2_\">\n",
       "  <thead>\n",
       "    <tr>\n",
       "      <th class=\"blank level0\" >&nbsp;</th>\n",
       "      <th class=\"col_heading level0 col0\" >Model</th>\n",
       "      <th class=\"col_heading level0 col1\" >Accuracy</th>\n",
       "      <th class=\"col_heading level0 col2\" >AUC</th>\n",
       "      <th class=\"col_heading level0 col3\" >Recall</th>\n",
       "      <th class=\"col_heading level0 col4\" >Prec.</th>\n",
       "      <th class=\"col_heading level0 col5\" >F1</th>\n",
       "      <th class=\"col_heading level0 col6\" >Kappa</th>\n",
       "      <th class=\"col_heading level0 col7\" >MCC</th>\n",
       "    </tr>\n",
       "  </thead>\n",
       "  <tbody>\n",
       "    <tr>\n",
       "      <th id=\"T_f5db2_level0_row0\" class=\"row_heading level0 row0\" >0</th>\n",
       "      <td id=\"T_f5db2_row0_col0\" class=\"data row0 col0\" >Logistic Regression</td>\n",
       "      <td id=\"T_f5db2_row0_col1\" class=\"data row0 col1\" >0.9988</td>\n",
       "      <td id=\"T_f5db2_row0_col2\" class=\"data row0 col2\" >0.9999</td>\n",
       "      <td id=\"T_f5db2_row0_col3\" class=\"data row0 col3\" >0.9979</td>\n",
       "      <td id=\"T_f5db2_row0_col4\" class=\"data row0 col4\" >0.9968</td>\n",
       "      <td id=\"T_f5db2_row0_col5\" class=\"data row0 col5\" >0.9974</td>\n",
       "      <td id=\"T_f5db2_row0_col6\" class=\"data row0 col6\" >0.9966</td>\n",
       "      <td id=\"T_f5db2_row0_col7\" class=\"data row0 col7\" >0.9966</td>\n",
       "    </tr>\n",
       "  </tbody>\n",
       "</table>\n"
      ],
      "text/plain": [
       "<pandas.io.formats.style.Styler at 0x7f91d46ad960>"
      ]
     },
     "metadata": {},
     "output_type": "display_data"
    },
    {
     "data": {
      "text/html": [
       "<div>\n",
       "<style scoped>\n",
       "    .dataframe tbody tr th:only-of-type {\n",
       "        vertical-align: middle;\n",
       "    }\n",
       "\n",
       "    .dataframe tbody tr th {\n",
       "        vertical-align: top;\n",
       "    }\n",
       "\n",
       "    .dataframe thead th {\n",
       "        text-align: right;\n",
       "    }\n",
       "</style>\n",
       "<table border=\"1\" class=\"dataframe\">\n",
       "  <thead>\n",
       "    <tr style=\"text-align: right;\">\n",
       "      <th></th>\n",
       "      <th>Unnamed: 0</th>\n",
       "      <th>lat</th>\n",
       "      <th>lon</th>\n",
       "      <th>l2</th>\n",
       "      <th>l3</th>\n",
       "      <th>rooms</th>\n",
       "      <th>bedrooms</th>\n",
       "      <th>bathrooms</th>\n",
       "      <th>surface_total</th>\n",
       "      <th>surface_covered</th>\n",
       "      <th>price</th>\n",
       "      <th>currency</th>\n",
       "      <th>title</th>\n",
       "      <th>description</th>\n",
       "      <th>property_type</th>\n",
       "      <th>geometry</th>\n",
       "      <th>avg</th>\n",
       "      <th>prediction_label</th>\n",
       "      <th>prediction_score</th>\n",
       "    </tr>\n",
       "  </thead>\n",
       "  <tbody>\n",
       "    <tr>\n",
       "      <th>0</th>\n",
       "      <td>0.232090</td>\n",
       "      <td>-0.657756</td>\n",
       "      <td>-0.135758</td>\n",
       "      <td>-0.600087</td>\n",
       "      <td>-0.804493</td>\n",
       "      <td>0.071423</td>\n",
       "      <td>0.063945</td>\n",
       "      <td>-0.429423</td>\n",
       "      <td>0.117301</td>\n",
       "      <td>0.185293</td>\n",
       "      <td>-0.913333</td>\n",
       "      <td>0.009722</td>\n",
       "      <td>0.584105</td>\n",
       "      <td>0.559555</td>\n",
       "      <td>-0.943979</td>\n",
       "      <td>0.460479</td>\n",
       "      <td>0</td>\n",
       "      <td>0</td>\n",
       "      <td>1.0000</td>\n",
       "    </tr>\n",
       "    <tr>\n",
       "      <th>1</th>\n",
       "      <td>-1.101791</td>\n",
       "      <td>0.770525</td>\n",
       "      <td>1.227088</td>\n",
       "      <td>-1.729478</td>\n",
       "      <td>-1.656374</td>\n",
       "      <td>0.071423</td>\n",
       "      <td>0.063945</td>\n",
       "      <td>-0.429423</td>\n",
       "      <td>0.117301</td>\n",
       "      <td>0.185293</td>\n",
       "      <td>-0.503856</td>\n",
       "      <td>0.009722</td>\n",
       "      <td>-1.007937</td>\n",
       "      <td>-0.996122</td>\n",
       "      <td>1.639963</td>\n",
       "      <td>-1.207813</td>\n",
       "      <td>0</td>\n",
       "      <td>0</td>\n",
       "      <td>1.0000</td>\n",
       "    </tr>\n",
       "    <tr>\n",
       "      <th>2</th>\n",
       "      <td>0.437795</td>\n",
       "      <td>0.041166</td>\n",
       "      <td>-0.000175</td>\n",
       "      <td>0.014421</td>\n",
       "      <td>1.562085</td>\n",
       "      <td>0.071423</td>\n",
       "      <td>0.063945</td>\n",
       "      <td>0.523832</td>\n",
       "      <td>0.117301</td>\n",
       "      <td>0.185293</td>\n",
       "      <td>0.638376</td>\n",
       "      <td>0.009722</td>\n",
       "      <td>1.770451</td>\n",
       "      <td>1.771211</td>\n",
       "      <td>0.686879</td>\n",
       "      <td>0.278714</td>\n",
       "      <td>1</td>\n",
       "      <td>1</td>\n",
       "      <td>0.9798</td>\n",
       "    </tr>\n",
       "    <tr>\n",
       "      <th>3</th>\n",
       "      <td>-2.244872</td>\n",
       "      <td>-0.288095</td>\n",
       "      <td>-0.454630</td>\n",
       "      <td>-1.684870</td>\n",
       "      <td>-1.373393</td>\n",
       "      <td>0.071423</td>\n",
       "      <td>0.063945</td>\n",
       "      <td>-0.429423</td>\n",
       "      <td>0.117301</td>\n",
       "      <td>0.185293</td>\n",
       "      <td>-0.135989</td>\n",
       "      <td>0.009722</td>\n",
       "      <td>0.584105</td>\n",
       "      <td>0.559555</td>\n",
       "      <td>0.686999</td>\n",
       "      <td>0.460479</td>\n",
       "      <td>0</td>\n",
       "      <td>0</td>\n",
       "      <td>1.0000</td>\n",
       "    </tr>\n",
       "    <tr>\n",
       "      <th>4</th>\n",
       "      <td>0.517773</td>\n",
       "      <td>0.294575</td>\n",
       "      <td>-0.606635</td>\n",
       "      <td>0.014664</td>\n",
       "      <td>-1.607740</td>\n",
       "      <td>-2.994379</td>\n",
       "      <td>-1.878713</td>\n",
       "      <td>0.223354</td>\n",
       "      <td>0.117301</td>\n",
       "      <td>0.185293</td>\n",
       "      <td>-0.245174</td>\n",
       "      <td>0.009722</td>\n",
       "      <td>-1.007937</td>\n",
       "      <td>0.559555</td>\n",
       "      <td>-0.943979</td>\n",
       "      <td>0.460479</td>\n",
       "      <td>0</td>\n",
       "      <td>0</td>\n",
       "      <td>1.0000</td>\n",
       "    </tr>\n",
       "    <tr>\n",
       "      <th>...</th>\n",
       "      <td>...</td>\n",
       "      <td>...</td>\n",
       "      <td>...</td>\n",
       "      <td>...</td>\n",
       "      <td>...</td>\n",
       "      <td>...</td>\n",
       "      <td>...</td>\n",
       "      <td>...</td>\n",
       "      <td>...</td>\n",
       "      <td>...</td>\n",
       "      <td>...</td>\n",
       "      <td>...</td>\n",
       "      <td>...</td>\n",
       "      <td>...</td>\n",
       "      <td>...</td>\n",
       "      <td>...</td>\n",
       "      <td>...</td>\n",
       "      <td>...</td>\n",
       "      <td>...</td>\n",
       "    </tr>\n",
       "    <tr>\n",
       "      <th>39505</th>\n",
       "      <td>-0.060656</td>\n",
       "      <td>-0.521485</td>\n",
       "      <td>0.918696</td>\n",
       "      <td>1.576707</td>\n",
       "      <td>1.310963</td>\n",
       "      <td>-0.523657</td>\n",
       "      <td>-0.278573</td>\n",
       "      <td>0.223354</td>\n",
       "      <td>0.117301</td>\n",
       "      <td>0.185293</td>\n",
       "      <td>-1.158946</td>\n",
       "      <td>0.009722</td>\n",
       "      <td>-1.007937</td>\n",
       "      <td>0.559555</td>\n",
       "      <td>-0.943979</td>\n",
       "      <td>-1.207813</td>\n",
       "      <td>0</td>\n",
       "      <td>0</td>\n",
       "      <td>1.0000</td>\n",
       "    </tr>\n",
       "    <tr>\n",
       "      <th>39506</th>\n",
       "      <td>1.476920</td>\n",
       "      <td>-0.511084</td>\n",
       "      <td>1.030515</td>\n",
       "      <td>1.576707</td>\n",
       "      <td>1.310963</td>\n",
       "      <td>0.071423</td>\n",
       "      <td>0.063945</td>\n",
       "      <td>-1.968968</td>\n",
       "      <td>0.117301</td>\n",
       "      <td>-5.990751</td>\n",
       "      <td>-1.106934</td>\n",
       "      <td>0.009722</td>\n",
       "      <td>0.584105</td>\n",
       "      <td>-0.996122</td>\n",
       "      <td>1.242306</td>\n",
       "      <td>-1.207813</td>\n",
       "      <td>0</td>\n",
       "      <td>0</td>\n",
       "      <td>1.0000</td>\n",
       "    </tr>\n",
       "    <tr>\n",
       "      <th>39507</th>\n",
       "      <td>0.148012</td>\n",
       "      <td>-1.250605</td>\n",
       "      <td>-1.567541</td>\n",
       "      <td>-0.090614</td>\n",
       "      <td>0.026680</td>\n",
       "      <td>0.071423</td>\n",
       "      <td>0.063945</td>\n",
       "      <td>-1.968968</td>\n",
       "      <td>0.117301</td>\n",
       "      <td>0.185293</td>\n",
       "      <td>0.396729</td>\n",
       "      <td>0.009722</td>\n",
       "      <td>-1.007937</td>\n",
       "      <td>-0.996122</td>\n",
       "      <td>1.639963</td>\n",
       "      <td>1.050432</td>\n",
       "      <td>0</td>\n",
       "      <td>0</td>\n",
       "      <td>1.0000</td>\n",
       "    </tr>\n",
       "    <tr>\n",
       "      <th>39508</th>\n",
       "      <td>0.268881</td>\n",
       "      <td>-0.507183</td>\n",
       "      <td>0.934243</td>\n",
       "      <td>1.576707</td>\n",
       "      <td>1.310963</td>\n",
       "      <td>0.071423</td>\n",
       "      <td>0.063945</td>\n",
       "      <td>-0.429423</td>\n",
       "      <td>0.117301</td>\n",
       "      <td>0.185293</td>\n",
       "      <td>-0.245174</td>\n",
       "      <td>0.009722</td>\n",
       "      <td>-1.007937</td>\n",
       "      <td>-0.996122</td>\n",
       "      <td>0.686999</td>\n",
       "      <td>-1.207813</td>\n",
       "      <td>0</td>\n",
       "      <td>0</td>\n",
       "      <td>1.0000</td>\n",
       "    </tr>\n",
       "    <tr>\n",
       "      <th>39509</th>\n",
       "      <td>-0.047944</td>\n",
       "      <td>2.618664</td>\n",
       "      <td>0.248654</td>\n",
       "      <td>-0.289778</td>\n",
       "      <td>-0.189044</td>\n",
       "      <td>0.071423</td>\n",
       "      <td>0.063945</td>\n",
       "      <td>-1.968968</td>\n",
       "      <td>0.117301</td>\n",
       "      <td>0.185293</td>\n",
       "      <td>-2.875041</td>\n",
       "      <td>0.009722</td>\n",
       "      <td>-1.007937</td>\n",
       "      <td>-0.996122</td>\n",
       "      <td>-0.943979</td>\n",
       "      <td>-1.207813</td>\n",
       "      <td>0</td>\n",
       "      <td>0</td>\n",
       "      <td>1.0000</td>\n",
       "    </tr>\n",
       "  </tbody>\n",
       "</table>\n",
       "<p>39510 rows × 19 columns</p>\n",
       "</div>"
      ],
      "text/plain": [
       "       Unnamed: 0       lat       lon        l2        l3     rooms  bedrooms  \\\n",
       "0        0.232090 -0.657756 -0.135758 -0.600087 -0.804493  0.071423  0.063945   \n",
       "1       -1.101791  0.770525  1.227088 -1.729478 -1.656374  0.071423  0.063945   \n",
       "2        0.437795  0.041166 -0.000175  0.014421  1.562085  0.071423  0.063945   \n",
       "3       -2.244872 -0.288095 -0.454630 -1.684870 -1.373393  0.071423  0.063945   \n",
       "4        0.517773  0.294575 -0.606635  0.014664 -1.607740 -2.994379 -1.878713   \n",
       "...           ...       ...       ...       ...       ...       ...       ...   \n",
       "39505   -0.060656 -0.521485  0.918696  1.576707  1.310963 -0.523657 -0.278573   \n",
       "39506    1.476920 -0.511084  1.030515  1.576707  1.310963  0.071423  0.063945   \n",
       "39507    0.148012 -1.250605 -1.567541 -0.090614  0.026680  0.071423  0.063945   \n",
       "39508    0.268881 -0.507183  0.934243  1.576707  1.310963  0.071423  0.063945   \n",
       "39509   -0.047944  2.618664  0.248654 -0.289778 -0.189044  0.071423  0.063945   \n",
       "\n",
       "       bathrooms  surface_total  surface_covered     price  currency  \\\n",
       "0      -0.429423       0.117301         0.185293 -0.913333  0.009722   \n",
       "1      -0.429423       0.117301         0.185293 -0.503856  0.009722   \n",
       "2       0.523832       0.117301         0.185293  0.638376  0.009722   \n",
       "3      -0.429423       0.117301         0.185293 -0.135989  0.009722   \n",
       "4       0.223354       0.117301         0.185293 -0.245174  0.009722   \n",
       "...          ...            ...              ...       ...       ...   \n",
       "39505   0.223354       0.117301         0.185293 -1.158946  0.009722   \n",
       "39506  -1.968968       0.117301        -5.990751 -1.106934  0.009722   \n",
       "39507  -1.968968       0.117301         0.185293  0.396729  0.009722   \n",
       "39508  -0.429423       0.117301         0.185293 -0.245174  0.009722   \n",
       "39509  -1.968968       0.117301         0.185293 -2.875041  0.009722   \n",
       "\n",
       "          title  description  property_type  geometry  avg  prediction_label  \\\n",
       "0      0.584105     0.559555      -0.943979  0.460479    0                 0   \n",
       "1     -1.007937    -0.996122       1.639963 -1.207813    0                 0   \n",
       "2      1.770451     1.771211       0.686879  0.278714    1                 1   \n",
       "3      0.584105     0.559555       0.686999  0.460479    0                 0   \n",
       "4     -1.007937     0.559555      -0.943979  0.460479    0                 0   \n",
       "...         ...          ...            ...       ...  ...               ...   \n",
       "39505 -1.007937     0.559555      -0.943979 -1.207813    0                 0   \n",
       "39506  0.584105    -0.996122       1.242306 -1.207813    0                 0   \n",
       "39507 -1.007937    -0.996122       1.639963  1.050432    0                 0   \n",
       "39508 -1.007937    -0.996122       0.686999 -1.207813    0                 0   \n",
       "39509 -1.007937    -0.996122      -0.943979 -1.207813    0                 0   \n",
       "\n",
       "       prediction_score  \n",
       "0                1.0000  \n",
       "1                1.0000  \n",
       "2                0.9798  \n",
       "3                1.0000  \n",
       "4                1.0000  \n",
       "...                 ...  \n",
       "39505            1.0000  \n",
       "39506            1.0000  \n",
       "39507            1.0000  \n",
       "39508            1.0000  \n",
       "39509            1.0000  \n",
       "\n",
       "[39510 rows x 19 columns]"
      ]
     },
     "execution_count": 53,
     "metadata": {},
     "output_type": "execute_result"
    }
   ],
   "source": [
    "testeo_pre = predict_model(modelo_final, data=df_test)\n",
    "testeo_pre\n",
    "\n",
    "# Testeo con df_test ( properties_colombia_test.csv )"
   ]
  },
  {
   "cell_type": "code",
   "execution_count": 54,
   "metadata": {},
   "outputs": [],
   "source": [
    "entrega = pd.DataFrame({\n",
    "        \"pre\": testeo_pre['prediction_label']\n",
    "    })\n",
    "\n",
    "entrega.to_csv('GyGuillermo.csv', index=False)\n",
    "\n",
    "# Generación csv de entrega"
   ]
  },
  {
   "cell_type": "code",
   "execution_count": null,
   "metadata": {},
   "outputs": [],
   "source": []
  }
 ],
 "metadata": {
  "kernelspec": {
   "display_name": "Python 3.10.6 64-bit",
   "language": "python",
   "name": "python3"
  },
  "language_info": {
   "codemirror_mode": {
    "name": "ipython",
    "version": 3
   },
   "file_extension": ".py",
   "mimetype": "text/x-python",
   "name": "python",
   "nbconvert_exporter": "python",
   "pygments_lexer": "ipython3",
   "version": "3.10.6"
  },
  "orig_nbformat": 4,
  "vscode": {
   "interpreter": {
    "hash": "916dbcbb3f70747c44a77c7bcd40155683ae19c65e1c03b4aa3499c5328201f1"
   }
  }
 },
 "nbformat": 4,
 "nbformat_minor": 2
}
